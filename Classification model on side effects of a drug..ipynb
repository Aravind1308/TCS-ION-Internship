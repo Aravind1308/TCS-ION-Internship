{
 "cells": [
  {
   "cell_type": "code",
   "execution_count": 1,
   "id": "05dc7892",
   "metadata": {},
   "outputs": [],
   "source": [
    "import numpy as np\n",
    "import pandas as pd\n",
    "from random import choice, sample\n",
    "import matplotlib.pyplot as plt\n",
    "import seaborn as sns\n",
    "%matplotlib inline\n",
    "\n",
    "import warnings\n",
    "warnings.filterwarnings('ignore')"
   ]
  },
  {
   "cell_type": "markdown",
   "id": "2df4a400",
   "metadata": {},
   "source": [
    "### Loading the dataset"
   ]
  },
  {
   "cell_type": "code",
   "execution_count": 2,
   "id": "67a7f308",
   "metadata": {},
   "outputs": [
    {
     "data": {
      "text/html": [
       "<div>\n",
       "<style scoped>\n",
       "    .dataframe tbody tr th:only-of-type {\n",
       "        vertical-align: middle;\n",
       "    }\n",
       "\n",
       "    .dataframe tbody tr th {\n",
       "        vertical-align: top;\n",
       "    }\n",
       "\n",
       "    .dataframe thead th {\n",
       "        text-align: right;\n",
       "    }\n",
       "</style>\n",
       "<table border=\"1\" class=\"dataframe\">\n",
       "  <thead>\n",
       "    <tr style=\"text-align: right;\">\n",
       "      <th></th>\n",
       "      <th>Name</th>\n",
       "      <th>Race</th>\n",
       "      <th>Age</th>\n",
       "      <th>Condition</th>\n",
       "      <th>Date</th>\n",
       "      <th>Drug</th>\n",
       "      <th>DrugId</th>\n",
       "      <th>EaseofUse</th>\n",
       "      <th>Effectiveness</th>\n",
       "      <th>Reviews</th>\n",
       "      <th>Satisfaction</th>\n",
       "      <th>Sex</th>\n",
       "      <th>Sides</th>\n",
       "      <th>UsefulCount</th>\n",
       "    </tr>\n",
       "  </thead>\n",
       "  <tbody>\n",
       "    <tr>\n",
       "      <th>0</th>\n",
       "      <td>Heather Hatfield</td>\n",
       "      <td>Asian</td>\n",
       "      <td>75 or over</td>\n",
       "      <td>Stuffy Nose</td>\n",
       "      <td>9/21/2014</td>\n",
       "      <td>25dph-7.5peh</td>\n",
       "      <td>146724</td>\n",
       "      <td>5</td>\n",
       "      <td>5</td>\n",
       "      <td>I'm a retired physician and of all the meds I ...</td>\n",
       "      <td>5</td>\n",
       "      <td>Male</td>\n",
       "      <td>Drowsiness,  dizziness ,  dry mouth /nose/thro...</td>\n",
       "      <td>0</td>\n",
       "    </tr>\n",
       "    <tr>\n",
       "      <th>1</th>\n",
       "      <td>Eddie Murray</td>\n",
       "      <td>Black</td>\n",
       "      <td>25-34</td>\n",
       "      <td>Cold Symptoms</td>\n",
       "      <td>1/13/2011</td>\n",
       "      <td>25dph-7.5peh</td>\n",
       "      <td>146724</td>\n",
       "      <td>5</td>\n",
       "      <td>5</td>\n",
       "      <td>cleared me right up even with my throat hurtin...</td>\n",
       "      <td>5</td>\n",
       "      <td>Female</td>\n",
       "      <td>Drowsiness,  dizziness ,  dry mouth /nose/thro...</td>\n",
       "      <td>1</td>\n",
       "    </tr>\n",
       "    <tr>\n",
       "      <th>2</th>\n",
       "      <td>Elizabeth Owens</td>\n",
       "      <td>Asian</td>\n",
       "      <td>65-74</td>\n",
       "      <td>Other</td>\n",
       "      <td>7/16/2012</td>\n",
       "      <td>warfarin (bulk) 100 % powder</td>\n",
       "      <td>144731</td>\n",
       "      <td>2</td>\n",
       "      <td>3</td>\n",
       "      <td>why did my PTINR go from a normal of 2.5 to ov...</td>\n",
       "      <td>3</td>\n",
       "      <td>Female</td>\n",
       "      <td></td>\n",
       "      <td>0</td>\n",
       "    </tr>\n",
       "    <tr>\n",
       "      <th>3</th>\n",
       "      <td>Melissa Beltran</td>\n",
       "      <td>White</td>\n",
       "      <td>75 or over</td>\n",
       "      <td>Other</td>\n",
       "      <td>9/23/2010</td>\n",
       "      <td>warfarin (bulk) 100 % powder</td>\n",
       "      <td>144731</td>\n",
       "      <td>2</td>\n",
       "      <td>2</td>\n",
       "      <td>FALLING AND DON'T REALISE IT</td>\n",
       "      <td>1</td>\n",
       "      <td>Female</td>\n",
       "      <td></td>\n",
       "      <td>0</td>\n",
       "    </tr>\n",
       "    <tr>\n",
       "      <th>4</th>\n",
       "      <td>Nicole Butler</td>\n",
       "      <td>Hispanic</td>\n",
       "      <td>35-44</td>\n",
       "      <td>Other</td>\n",
       "      <td>1/6/2009</td>\n",
       "      <td>warfarin (bulk) 100 % powder</td>\n",
       "      <td>144731</td>\n",
       "      <td>1</td>\n",
       "      <td>1</td>\n",
       "      <td>My grandfather was prescribed this medication ...</td>\n",
       "      <td>1</td>\n",
       "      <td>Male</td>\n",
       "      <td></td>\n",
       "      <td>1</td>\n",
       "    </tr>\n",
       "  </tbody>\n",
       "</table>\n",
       "</div>"
      ],
      "text/plain": [
       "               Name      Race         Age      Condition       Date  \\\n",
       "0  Heather Hatfield     Asian  75 or over    Stuffy Nose  9/21/2014   \n",
       "1      Eddie Murray     Black       25-34  Cold Symptoms  1/13/2011   \n",
       "2   Elizabeth Owens     Asian       65-74          Other  7/16/2012   \n",
       "3   Melissa Beltran     White  75 or over          Other  9/23/2010   \n",
       "4     Nicole Butler  Hispanic       35-44          Other   1/6/2009   \n",
       "\n",
       "                           Drug  DrugId  EaseofUse  Effectiveness  \\\n",
       "0                  25dph-7.5peh  146724          5              5   \n",
       "1                  25dph-7.5peh  146724          5              5   \n",
       "2  warfarin (bulk) 100 % powder  144731          2              3   \n",
       "3  warfarin (bulk) 100 % powder  144731          2              2   \n",
       "4  warfarin (bulk) 100 % powder  144731          1              1   \n",
       "\n",
       "                                             Reviews  Satisfaction     Sex  \\\n",
       "0  I'm a retired physician and of all the meds I ...             5    Male   \n",
       "1  cleared me right up even with my throat hurtin...             5  Female   \n",
       "2  why did my PTINR go from a normal of 2.5 to ov...             3  Female   \n",
       "3                       FALLING AND DON'T REALISE IT             1  Female   \n",
       "4  My grandfather was prescribed this medication ...             1    Male   \n",
       "\n",
       "                                               Sides  UsefulCount  \n",
       "0  Drowsiness,  dizziness ,  dry mouth /nose/thro...            0  \n",
       "1  Drowsiness,  dizziness ,  dry mouth /nose/thro...            1  \n",
       "2                                                               0  \n",
       "3                                                               0  \n",
       "4                                                               1  "
      ]
     },
     "execution_count": 2,
     "metadata": {},
     "output_type": "execute_result"
    }
   ],
   "source": [
    "data = pd.read_csv('dataset_drugs.csv')\n",
    "data.head()"
   ]
  },
  {
   "cell_type": "code",
   "execution_count": 4,
   "id": "6c86419c",
   "metadata": {},
   "outputs": [
    {
     "data": {
      "text/plain": [
       "(362806, 14)"
      ]
     },
     "execution_count": 4,
     "metadata": {},
     "output_type": "execute_result"
    }
   ],
   "source": [
    "data.shape"
   ]
  },
  {
   "cell_type": "code",
   "execution_count": 5,
   "id": "b2679066",
   "metadata": {},
   "outputs": [
    {
     "name": "stdout",
     "output_type": "stream",
     "text": [
      "<class 'pandas.core.frame.DataFrame'>\n",
      "RangeIndex: 362806 entries, 0 to 362805\n",
      "Data columns (total 14 columns):\n",
      " #   Column         Non-Null Count   Dtype \n",
      "---  ------         --------------   ----- \n",
      " 0   Name           362806 non-null  object\n",
      " 1   Race           362806 non-null  object\n",
      " 2   Age            362806 non-null  object\n",
      " 3   Condition      362806 non-null  object\n",
      " 4   Date           362806 non-null  object\n",
      " 5   Drug           362806 non-null  object\n",
      " 6   DrugId         362806 non-null  int64 \n",
      " 7   EaseofUse      362806 non-null  int64 \n",
      " 8   Effectiveness  362806 non-null  int64 \n",
      " 9   Reviews        362769 non-null  object\n",
      " 10  Satisfaction   362806 non-null  int64 \n",
      " 11  Sex            362806 non-null  object\n",
      " 12  Sides          362806 non-null  object\n",
      " 13  UsefulCount    362806 non-null  int64 \n",
      "dtypes: int64(5), object(9)\n",
      "memory usage: 38.8+ MB\n"
     ]
    }
   ],
   "source": [
    "data.info()"
   ]
  },
  {
   "cell_type": "code",
   "execution_count": 6,
   "id": "67de377d",
   "metadata": {},
   "outputs": [
    {
     "data": {
      "text/html": [
       "<div>\n",
       "<style scoped>\n",
       "    .dataframe tbody tr th:only-of-type {\n",
       "        vertical-align: middle;\n",
       "    }\n",
       "\n",
       "    .dataframe tbody tr th {\n",
       "        vertical-align: top;\n",
       "    }\n",
       "\n",
       "    .dataframe thead th {\n",
       "        text-align: right;\n",
       "    }\n",
       "</style>\n",
       "<table border=\"1\" class=\"dataframe\">\n",
       "  <thead>\n",
       "    <tr style=\"text-align: right;\">\n",
       "      <th></th>\n",
       "      <th>DrugId</th>\n",
       "      <th>EaseofUse</th>\n",
       "      <th>Effectiveness</th>\n",
       "      <th>Satisfaction</th>\n",
       "      <th>UsefulCount</th>\n",
       "    </tr>\n",
       "  </thead>\n",
       "  <tbody>\n",
       "    <tr>\n",
       "      <th>count</th>\n",
       "      <td>362806.000000</td>\n",
       "      <td>362806.000000</td>\n",
       "      <td>362806.000000</td>\n",
       "      <td>362806.000000</td>\n",
       "      <td>362806.000000</td>\n",
       "    </tr>\n",
       "    <tr>\n",
       "      <th>mean</th>\n",
       "      <td>36879.370774</td>\n",
       "      <td>4.019829</td>\n",
       "      <td>3.532061</td>\n",
       "      <td>3.135408</td>\n",
       "      <td>6.744916</td>\n",
       "    </tr>\n",
       "    <tr>\n",
       "      <th>std</th>\n",
       "      <td>52624.412971</td>\n",
       "      <td>1.317711</td>\n",
       "      <td>1.455961</td>\n",
       "      <td>1.611106</td>\n",
       "      <td>9.324240</td>\n",
       "    </tr>\n",
       "    <tr>\n",
       "      <th>min</th>\n",
       "      <td>1.000000</td>\n",
       "      <td>1.000000</td>\n",
       "      <td>1.000000</td>\n",
       "      <td>1.000000</td>\n",
       "      <td>0.000000</td>\n",
       "    </tr>\n",
       "    <tr>\n",
       "      <th>25%</th>\n",
       "      <td>4896.000000</td>\n",
       "      <td>3.000000</td>\n",
       "      <td>3.000000</td>\n",
       "      <td>1.000000</td>\n",
       "      <td>1.000000</td>\n",
       "    </tr>\n",
       "    <tr>\n",
       "      <th>50%</th>\n",
       "      <td>9548.000000</td>\n",
       "      <td>5.000000</td>\n",
       "      <td>4.000000</td>\n",
       "      <td>3.000000</td>\n",
       "      <td>4.000000</td>\n",
       "    </tr>\n",
       "    <tr>\n",
       "      <th>75%</th>\n",
       "      <td>63522.000000</td>\n",
       "      <td>5.000000</td>\n",
       "      <td>5.000000</td>\n",
       "      <td>5.000000</td>\n",
       "      <td>9.000000</td>\n",
       "    </tr>\n",
       "    <tr>\n",
       "      <th>max</th>\n",
       "      <td>178546.000000</td>\n",
       "      <td>10.000000</td>\n",
       "      <td>10.000000</td>\n",
       "      <td>10.000000</td>\n",
       "      <td>255.000000</td>\n",
       "    </tr>\n",
       "  </tbody>\n",
       "</table>\n",
       "</div>"
      ],
      "text/plain": [
       "              DrugId      EaseofUse  Effectiveness   Satisfaction  \\\n",
       "count  362806.000000  362806.000000  362806.000000  362806.000000   \n",
       "mean    36879.370774       4.019829       3.532061       3.135408   \n",
       "std     52624.412971       1.317711       1.455961       1.611106   \n",
       "min         1.000000       1.000000       1.000000       1.000000   \n",
       "25%      4896.000000       3.000000       3.000000       1.000000   \n",
       "50%      9548.000000       5.000000       4.000000       3.000000   \n",
       "75%     63522.000000       5.000000       5.000000       5.000000   \n",
       "max    178546.000000      10.000000      10.000000      10.000000   \n",
       "\n",
       "         UsefulCount  \n",
       "count  362806.000000  \n",
       "mean        6.744916  \n",
       "std         9.324240  \n",
       "min         0.000000  \n",
       "25%         1.000000  \n",
       "50%         4.000000  \n",
       "75%         9.000000  \n",
       "max       255.000000  "
      ]
     },
     "execution_count": 6,
     "metadata": {},
     "output_type": "execute_result"
    }
   ],
   "source": [
    "data.describe()"
   ]
  },
  {
   "cell_type": "code",
   "execution_count": 7,
   "id": "58c6585d",
   "metadata": {},
   "outputs": [
    {
     "data": {
      "text/plain": [
       "Index(['Name', 'Race', 'Age', 'Condition', 'Date', 'Drug', 'DrugId',\n",
       "       'EaseofUse', 'Effectiveness', 'Reviews', 'Satisfaction', 'Sex', 'Sides',\n",
       "       'UsefulCount'],\n",
       "      dtype='object')"
      ]
     },
     "execution_count": 7,
     "metadata": {},
     "output_type": "execute_result"
    }
   ],
   "source": [
    "data.columns"
   ]
  },
  {
   "cell_type": "code",
   "execution_count": 8,
   "id": "d0bd94bb",
   "metadata": {},
   "outputs": [
    {
     "data": {
      "text/plain": [
       "Name              0\n",
       "Race              0\n",
       "Age               0\n",
       "Condition         0\n",
       "Date              0\n",
       "Drug              0\n",
       "DrugId            0\n",
       "EaseofUse         0\n",
       "Effectiveness     0\n",
       "Reviews          37\n",
       "Satisfaction      0\n",
       "Sex               0\n",
       "Sides             0\n",
       "UsefulCount       0\n",
       "dtype: int64"
      ]
     },
     "execution_count": 8,
     "metadata": {},
     "output_type": "execute_result"
    }
   ],
   "source": [
    "data.isna().sum()"
   ]
  },
  {
   "cell_type": "markdown",
   "id": "0295cfab",
   "metadata": {},
   "source": [
    "Reviews has 37 missing values"
   ]
  },
  {
   "cell_type": "code",
   "execution_count": 9,
   "id": "5dcadfab",
   "metadata": {},
   "outputs": [
    {
     "data": {
      "text/plain": [
       "Name             object\n",
       "Race             object\n",
       "Age              object\n",
       "Condition        object\n",
       "Date             object\n",
       "Drug             object\n",
       "DrugId            int64\n",
       "EaseofUse         int64\n",
       "Effectiveness     int64\n",
       "Reviews          object\n",
       "Satisfaction      int64\n",
       "Sex              object\n",
       "Sides            object\n",
       "UsefulCount       int64\n",
       "dtype: object"
      ]
     },
     "execution_count": 9,
     "metadata": {},
     "output_type": "execute_result"
    }
   ],
   "source": [
    "data.dtypes"
   ]
  },
  {
   "cell_type": "code",
   "execution_count": 10,
   "id": "62e0ab06",
   "metadata": {},
   "outputs": [
    {
     "data": {
      "text/html": [
       "<div>\n",
       "<style scoped>\n",
       "    .dataframe tbody tr th:only-of-type {\n",
       "        vertical-align: middle;\n",
       "    }\n",
       "\n",
       "    .dataframe tbody tr th {\n",
       "        vertical-align: top;\n",
       "    }\n",
       "\n",
       "    .dataframe thead th {\n",
       "        text-align: right;\n",
       "    }\n",
       "</style>\n",
       "<table border=\"1\" class=\"dataframe\">\n",
       "  <thead>\n",
       "    <tr style=\"text-align: right;\">\n",
       "      <th></th>\n",
       "      <th>count</th>\n",
       "      <th>mean</th>\n",
       "      <th>std</th>\n",
       "      <th>min</th>\n",
       "      <th>25%</th>\n",
       "      <th>50%</th>\n",
       "      <th>75%</th>\n",
       "      <th>max</th>\n",
       "    </tr>\n",
       "  </thead>\n",
       "  <tbody>\n",
       "    <tr>\n",
       "      <th>DrugId</th>\n",
       "      <td>362806.0</td>\n",
       "      <td>36879.370774</td>\n",
       "      <td>52624.412971</td>\n",
       "      <td>1.0</td>\n",
       "      <td>4896.0</td>\n",
       "      <td>9548.0</td>\n",
       "      <td>63522.0</td>\n",
       "      <td>178546.0</td>\n",
       "    </tr>\n",
       "    <tr>\n",
       "      <th>EaseofUse</th>\n",
       "      <td>362806.0</td>\n",
       "      <td>4.019829</td>\n",
       "      <td>1.317711</td>\n",
       "      <td>1.0</td>\n",
       "      <td>3.0</td>\n",
       "      <td>5.0</td>\n",
       "      <td>5.0</td>\n",
       "      <td>10.0</td>\n",
       "    </tr>\n",
       "    <tr>\n",
       "      <th>Effectiveness</th>\n",
       "      <td>362806.0</td>\n",
       "      <td>3.532061</td>\n",
       "      <td>1.455961</td>\n",
       "      <td>1.0</td>\n",
       "      <td>3.0</td>\n",
       "      <td>4.0</td>\n",
       "      <td>5.0</td>\n",
       "      <td>10.0</td>\n",
       "    </tr>\n",
       "    <tr>\n",
       "      <th>Satisfaction</th>\n",
       "      <td>362806.0</td>\n",
       "      <td>3.135408</td>\n",
       "      <td>1.611106</td>\n",
       "      <td>1.0</td>\n",
       "      <td>1.0</td>\n",
       "      <td>3.0</td>\n",
       "      <td>5.0</td>\n",
       "      <td>10.0</td>\n",
       "    </tr>\n",
       "    <tr>\n",
       "      <th>UsefulCount</th>\n",
       "      <td>362806.0</td>\n",
       "      <td>6.744916</td>\n",
       "      <td>9.324240</td>\n",
       "      <td>0.0</td>\n",
       "      <td>1.0</td>\n",
       "      <td>4.0</td>\n",
       "      <td>9.0</td>\n",
       "      <td>255.0</td>\n",
       "    </tr>\n",
       "  </tbody>\n",
       "</table>\n",
       "</div>"
      ],
      "text/plain": [
       "                  count          mean           std  min     25%     50%  \\\n",
       "DrugId         362806.0  36879.370774  52624.412971  1.0  4896.0  9548.0   \n",
       "EaseofUse      362806.0      4.019829      1.317711  1.0     3.0     5.0   \n",
       "Effectiveness  362806.0      3.532061      1.455961  1.0     3.0     4.0   \n",
       "Satisfaction   362806.0      3.135408      1.611106  1.0     1.0     3.0   \n",
       "UsefulCount    362806.0      6.744916      9.324240  0.0     1.0     4.0   \n",
       "\n",
       "                   75%       max  \n",
       "DrugId         63522.0  178546.0  \n",
       "EaseofUse          5.0      10.0  \n",
       "Effectiveness      5.0      10.0  \n",
       "Satisfaction       5.0      10.0  \n",
       "UsefulCount        9.0     255.0  "
      ]
     },
     "execution_count": 10,
     "metadata": {},
     "output_type": "execute_result"
    }
   ],
   "source": [
    "data.describe().T"
   ]
  },
  {
   "cell_type": "code",
   "execution_count": 11,
   "id": "93b7489e",
   "metadata": {},
   "outputs": [
    {
     "data": {
      "text/html": [
       "<div>\n",
       "<style scoped>\n",
       "    .dataframe tbody tr th:only-of-type {\n",
       "        vertical-align: middle;\n",
       "    }\n",
       "\n",
       "    .dataframe tbody tr th {\n",
       "        vertical-align: top;\n",
       "    }\n",
       "\n",
       "    .dataframe thead th {\n",
       "        text-align: right;\n",
       "    }\n",
       "</style>\n",
       "<table border=\"1\" class=\"dataframe\">\n",
       "  <thead>\n",
       "    <tr style=\"text-align: right;\">\n",
       "      <th></th>\n",
       "      <th>count</th>\n",
       "      <th>unique</th>\n",
       "      <th>top</th>\n",
       "      <th>freq</th>\n",
       "    </tr>\n",
       "  </thead>\n",
       "  <tbody>\n",
       "    <tr>\n",
       "      <th>Name</th>\n",
       "      <td>362806</td>\n",
       "      <td>180987</td>\n",
       "      <td>Michael Smith</td>\n",
       "      <td>171</td>\n",
       "    </tr>\n",
       "    <tr>\n",
       "      <th>Race</th>\n",
       "      <td>362806</td>\n",
       "      <td>4</td>\n",
       "      <td>White</td>\n",
       "      <td>115548</td>\n",
       "    </tr>\n",
       "    <tr>\n",
       "      <th>Age</th>\n",
       "      <td>362806</td>\n",
       "      <td>12</td>\n",
       "      <td>45-54</td>\n",
       "      <td>80043</td>\n",
       "    </tr>\n",
       "    <tr>\n",
       "      <th>Condition</th>\n",
       "      <td>362806</td>\n",
       "      <td>1806</td>\n",
       "      <td>Other</td>\n",
       "      <td>49765</td>\n",
       "    </tr>\n",
       "    <tr>\n",
       "      <th>Date</th>\n",
       "      <td>362806</td>\n",
       "      <td>4524</td>\n",
       "      <td>10/29/2007</td>\n",
       "      <td>404</td>\n",
       "    </tr>\n",
       "    <tr>\n",
       "      <th>Drug</th>\n",
       "      <td>362806</td>\n",
       "      <td>7093</td>\n",
       "      <td>cymbalta</td>\n",
       "      <td>4648</td>\n",
       "    </tr>\n",
       "    <tr>\n",
       "      <th>Reviews</th>\n",
       "      <td>362769</td>\n",
       "      <td>250167</td>\n",
       "      <td></td>\n",
       "      <td>41824</td>\n",
       "    </tr>\n",
       "    <tr>\n",
       "      <th>Sex</th>\n",
       "      <td>362806</td>\n",
       "      <td>3</td>\n",
       "      <td>Female</td>\n",
       "      <td>238226</td>\n",
       "    </tr>\n",
       "    <tr>\n",
       "      <th>Sides</th>\n",
       "      <td>362806</td>\n",
       "      <td>1651</td>\n",
       "      <td></td>\n",
       "      <td>17460</td>\n",
       "    </tr>\n",
       "  </tbody>\n",
       "</table>\n",
       "</div>"
      ],
      "text/plain": [
       "            count  unique            top    freq\n",
       "Name       362806  180987  Michael Smith     171\n",
       "Race       362806       4          White  115548\n",
       "Age        362806      12          45-54   80043\n",
       "Condition  362806    1806          Other   49765\n",
       "Date       362806    4524     10/29/2007     404\n",
       "Drug       362806    7093       cymbalta    4648\n",
       "Reviews    362769  250167                  41824\n",
       "Sex        362806       3         Female  238226\n",
       "Sides      362806    1651                  17460"
      ]
     },
     "execution_count": 11,
     "metadata": {},
     "output_type": "execute_result"
    }
   ],
   "source": [
    "data.describe(include='object').T"
   ]
  },
  {
   "cell_type": "markdown",
   "id": "26af9025",
   "metadata": {},
   "source": [
    "Age group between 45 to 54 is the highest.\n",
    "\n",
    "Female patients are more than male patients.\n",
    "\n",
    "The use of cymbalta is highest when compared with other drugs."
   ]
  },
  {
   "cell_type": "code",
   "execution_count": 12,
   "id": "780c7ba9",
   "metadata": {},
   "outputs": [
    {
     "data": {
      "text/plain": [
       "0"
      ]
     },
     "execution_count": 12,
     "metadata": {},
     "output_type": "execute_result"
    }
   ],
   "source": [
    "data.duplicated().sum()"
   ]
  },
  {
   "cell_type": "markdown",
   "id": "e4f9b6b8",
   "metadata": {},
   "source": [
    "No duplicates found"
   ]
  },
  {
   "cell_type": "markdown",
   "id": "65de4741",
   "metadata": {},
   "source": [
    "#### Unique occurrences of each variable"
   ]
  },
  {
   "cell_type": "code",
   "execution_count": 13,
   "id": "ce2aa9be",
   "metadata": {},
   "outputs": [
    {
     "name": "stdout",
     "output_type": "stream",
     "text": [
      "Name : 180987 \n",
      "\n",
      "Race : 4 \n",
      "\n",
      "Age : 12 \n",
      "\n",
      "Condition : 1806 \n",
      "\n",
      "Date : 4524 \n",
      "\n",
      "Drug : 7093 \n",
      "\n",
      "DrugId : 6572 \n",
      "\n",
      "EaseofUse : 7 \n",
      "\n",
      "Effectiveness : 7 \n",
      "\n",
      "Reviews : 250167 \n",
      "\n",
      "Satisfaction : 7 \n",
      "\n",
      "Sex : 3 \n",
      "\n",
      "Sides : 1651 \n",
      "\n",
      "UsefulCount : 148 \n",
      "\n"
     ]
    }
   ],
   "source": [
    "for i in data.columns:\n",
    "    print(i,':',data[i].nunique(),'\\n')"
   ]
  },
  {
   "cell_type": "markdown",
   "id": "90a9a512",
   "metadata": {},
   "source": [
    "'Sex' has three categories.\n",
    "\n",
    "Four different races are present.\n",
    "\n",
    "'Drug' has more values than 'DrugId'.\n",
    "\n",
    "'Condition' has lesser values than 'Drug'/'DrugId'.\n",
    "\n",
    "'Reviews' has close to 70% unique values."
   ]
  },
  {
   "cell_type": "code",
   "execution_count": 14,
   "id": "310774f7",
   "metadata": {},
   "outputs": [
    {
     "data": {
      "text/plain": [
       "White       115548\n",
       "Hispanic    101799\n",
       "Black        80051\n",
       "Asian        65408\n",
       "Name: Race, dtype: int64"
      ]
     },
     "execution_count": 14,
     "metadata": {},
     "output_type": "execute_result"
    }
   ],
   "source": [
    "data['Race'].value_counts()"
   ]
  },
  {
   "cell_type": "markdown",
   "id": "516a1c2e",
   "metadata": {},
   "source": [
    "Most number of people are Whites and Hispanic."
   ]
  },
  {
   "cell_type": "code",
   "execution_count": 15,
   "id": "9425748c",
   "metadata": {},
   "outputs": [
    {
     "data": {
      "text/plain": [
       "45-54         80043\n",
       "55-64         75136\n",
       "35-44         55011\n",
       "25-34         49718\n",
       "65-74         41216\n",
       "19-24         24230\n",
       "75 or over    15226\n",
       "              12202\n",
       "13-18          7045\n",
       "7-12           1644\n",
       "3-6             838\n",
       "0-2             497\n",
       "Name: Age, dtype: int64"
      ]
     },
     "execution_count": 15,
     "metadata": {},
     "output_type": "execute_result"
    }
   ],
   "source": [
    "data['Age'].value_counts()"
   ]
  },
  {
   "cell_type": "markdown",
   "id": "ff7fc051",
   "metadata": {},
   "source": [
    "Most number of people falls under the age of 45 - 54."
   ]
  },
  {
   "cell_type": "code",
   "execution_count": 16,
   "id": "edf2a280",
   "metadata": {},
   "outputs": [
    {
     "data": {
      "text/plain": [
       "cymbalta                               4648\n",
       "lisinopril                             4269\n",
       "lisinopril solution                    4269\n",
       "lexapro                                4134\n",
       "hydrocodone-acetaminophen              3944\n",
       "                                       ... \n",
       "sorbsan bandage                           1\n",
       "sorbsan topical wound dressing 3\" x       1\n",
       "q-pap extra strength                      1\n",
       "symax                                     1\n",
       "vanadium granules                         1\n",
       "Name: Drug, Length: 7093, dtype: int64"
      ]
     },
     "execution_count": 16,
     "metadata": {},
     "output_type": "execute_result"
    }
   ],
   "source": [
    "data['Drug'].value_counts()"
   ]
  },
  {
   "cell_type": "markdown",
   "id": "20f014b7",
   "metadata": {},
   "source": [
    "Most consumed drug is cymbalta. "
   ]
  },
  {
   "cell_type": "code",
   "execution_count": 17,
   "id": "a39f7cc7",
   "metadata": {},
   "outputs": [
    {
     "data": {
      "text/plain": [
       "Female    238226\n",
       "Male       98043\n",
       "           26537\n",
       "Name: Sex, dtype: int64"
      ]
     },
     "execution_count": 17,
     "metadata": {},
     "output_type": "execute_result"
    }
   ],
   "source": [
    "data['Sex'].value_counts()"
   ]
  },
  {
   "cell_type": "markdown",
   "id": "ae0551e5",
   "metadata": {},
   "source": [
    "### Selection of drug: A particular drug named cymbalta with DrugId 91491 is selected in building a classification model to determine side effects"
   ]
  },
  {
   "cell_type": "code",
   "execution_count": 18,
   "id": "8c4602ff",
   "metadata": {},
   "outputs": [],
   "source": [
    "data=data.drop(data.loc[(data['DrugId']!=91491)].index)"
   ]
  },
  {
   "cell_type": "code",
   "execution_count": 19,
   "id": "89f9c85e",
   "metadata": {},
   "outputs": [
    {
     "data": {
      "text/plain": [
       "(4648, 14)"
      ]
     },
     "execution_count": 19,
     "metadata": {},
     "output_type": "execute_result"
    }
   ],
   "source": [
    "data.shape"
   ]
  },
  {
   "cell_type": "code",
   "execution_count": 20,
   "id": "4f11aeaf",
   "metadata": {},
   "outputs": [
    {
     "name": "stdout",
     "output_type": "stream",
     "text": [
      "<class 'pandas.core.frame.DataFrame'>\n",
      "Int64Index: 4648 entries, 314212 to 319085\n",
      "Data columns (total 14 columns):\n",
      " #   Column         Non-Null Count  Dtype \n",
      "---  ------         --------------  ----- \n",
      " 0   Name           4648 non-null   object\n",
      " 1   Race           4648 non-null   object\n",
      " 2   Age            4648 non-null   object\n",
      " 3   Condition      4648 non-null   object\n",
      " 4   Date           4648 non-null   object\n",
      " 5   Drug           4648 non-null   object\n",
      " 6   DrugId         4648 non-null   int64 \n",
      " 7   EaseofUse      4648 non-null   int64 \n",
      " 8   Effectiveness  4648 non-null   int64 \n",
      " 9   Reviews        4648 non-null   object\n",
      " 10  Satisfaction   4648 non-null   int64 \n",
      " 11  Sex            4648 non-null   object\n",
      " 12  Sides          4648 non-null   object\n",
      " 13  UsefulCount    4648 non-null   int64 \n",
      "dtypes: int64(5), object(9)\n",
      "memory usage: 544.7+ KB\n"
     ]
    }
   ],
   "source": [
    "data.info()"
   ]
  },
  {
   "cell_type": "code",
   "execution_count": 21,
   "id": "a9a450b9",
   "metadata": {},
   "outputs": [
    {
     "data": {
      "text/html": [
       "<div>\n",
       "<style scoped>\n",
       "    .dataframe tbody tr th:only-of-type {\n",
       "        vertical-align: middle;\n",
       "    }\n",
       "\n",
       "    .dataframe tbody tr th {\n",
       "        vertical-align: top;\n",
       "    }\n",
       "\n",
       "    .dataframe thead th {\n",
       "        text-align: right;\n",
       "    }\n",
       "</style>\n",
       "<table border=\"1\" class=\"dataframe\">\n",
       "  <thead>\n",
       "    <tr style=\"text-align: right;\">\n",
       "      <th></th>\n",
       "      <th>Name</th>\n",
       "      <th>Race</th>\n",
       "      <th>Age</th>\n",
       "      <th>Condition</th>\n",
       "      <th>Date</th>\n",
       "      <th>Drug</th>\n",
       "      <th>DrugId</th>\n",
       "      <th>EaseofUse</th>\n",
       "      <th>Effectiveness</th>\n",
       "      <th>Reviews</th>\n",
       "      <th>Satisfaction</th>\n",
       "      <th>Sex</th>\n",
       "      <th>Sides</th>\n",
       "      <th>UsefulCount</th>\n",
       "    </tr>\n",
       "  </thead>\n",
       "  <tbody>\n",
       "    <tr>\n",
       "      <th>314212</th>\n",
       "      <td>Steven Bolton</td>\n",
       "      <td>Hispanic</td>\n",
       "      <td></td>\n",
       "      <td>Major Depressive Disorder</td>\n",
       "      <td>2/29/2020</td>\n",
       "      <td>cymbalta</td>\n",
       "      <td>91491</td>\n",
       "      <td>5</td>\n",
       "      <td>5</td>\n",
       "      <td>No Script or health Insurance needed to place ...</td>\n",
       "      <td>5</td>\n",
       "      <td></td>\n",
       "      <td>Nausea ,  dry mouth ,  constipation , loss of ...</td>\n",
       "      <td>12</td>\n",
       "    </tr>\n",
       "    <tr>\n",
       "      <th>314216</th>\n",
       "      <td>Zachary Smith</td>\n",
       "      <td>White</td>\n",
       "      <td>45-54</td>\n",
       "      <td>Repeated Episodes of Anxiety</td>\n",
       "      <td>1/13/2020</td>\n",
       "      <td>cymbalta</td>\n",
       "      <td>91491</td>\n",
       "      <td>3</td>\n",
       "      <td>1</td>\n",
       "      <td>I was prescribed Cymbalta for anxiety and star...</td>\n",
       "      <td>1</td>\n",
       "      <td>Male</td>\n",
       "      <td>Nausea ,  dry mouth ,  constipation , loss of ...</td>\n",
       "      <td>0</td>\n",
       "    </tr>\n",
       "    <tr>\n",
       "      <th>314223</th>\n",
       "      <td>Christopher Schroeder</td>\n",
       "      <td>Black</td>\n",
       "      <td>45-54</td>\n",
       "      <td>Anxiousness associated with Depression</td>\n",
       "      <td>1/4/2020</td>\n",
       "      <td>cymbalta</td>\n",
       "      <td>91491</td>\n",
       "      <td>5</td>\n",
       "      <td>5</td>\n",
       "      <td>Switched from Effexor to this medicine after 1...</td>\n",
       "      <td>5</td>\n",
       "      <td></td>\n",
       "      <td>Nausea ,  dry mouth ,  constipation , loss of ...</td>\n",
       "      <td>0</td>\n",
       "    </tr>\n",
       "    <tr>\n",
       "      <th>314235</th>\n",
       "      <td>Rhonda Lowe</td>\n",
       "      <td>White</td>\n",
       "      <td>35-44</td>\n",
       "      <td>Anxiousness associated with Depression</td>\n",
       "      <td>12/6/2019</td>\n",
       "      <td>cymbalta</td>\n",
       "      <td>91491</td>\n",
       "      <td>3</td>\n",
       "      <td>3</td>\n",
       "      <td>Bipolar I with a neck fusion. Pdoc prescribed ...</td>\n",
       "      <td>2</td>\n",
       "      <td>Female</td>\n",
       "      <td>Nausea ,  dry mouth ,  constipation , loss of ...</td>\n",
       "      <td>0</td>\n",
       "    </tr>\n",
       "    <tr>\n",
       "      <th>314246</th>\n",
       "      <td>Samuel Robertson</td>\n",
       "      <td>Asian</td>\n",
       "      <td>55-64</td>\n",
       "      <td>Chronic Muscle or Bone Pain</td>\n",
       "      <td>11/20/2019</td>\n",
       "      <td>cymbalta</td>\n",
       "      <td>91491</td>\n",
       "      <td>2</td>\n",
       "      <td>2</td>\n",
       "      <td>I have depression, anxiety, Fibro, severe musc...</td>\n",
       "      <td>2</td>\n",
       "      <td></td>\n",
       "      <td>Nausea ,  dry mouth ,  constipation , loss of ...</td>\n",
       "      <td>1</td>\n",
       "    </tr>\n",
       "  </tbody>\n",
       "</table>\n",
       "</div>"
      ],
      "text/plain": [
       "                         Name      Race    Age  \\\n",
       "314212          Steven Bolton  Hispanic          \n",
       "314216          Zachary Smith     White  45-54   \n",
       "314223  Christopher Schroeder     Black  45-54   \n",
       "314235            Rhonda Lowe     White  35-44   \n",
       "314246       Samuel Robertson     Asian  55-64   \n",
       "\n",
       "                                     Condition        Date      Drug  DrugId  \\\n",
       "314212               Major Depressive Disorder   2/29/2020  cymbalta   91491   \n",
       "314216            Repeated Episodes of Anxiety   1/13/2020  cymbalta   91491   \n",
       "314223  Anxiousness associated with Depression    1/4/2020  cymbalta   91491   \n",
       "314235  Anxiousness associated with Depression   12/6/2019  cymbalta   91491   \n",
       "314246             Chronic Muscle or Bone Pain  11/20/2019  cymbalta   91491   \n",
       "\n",
       "        EaseofUse  Effectiveness  \\\n",
       "314212          5              5   \n",
       "314216          3              1   \n",
       "314223          5              5   \n",
       "314235          3              3   \n",
       "314246          2              2   \n",
       "\n",
       "                                                  Reviews  Satisfaction  \\\n",
       "314212  No Script or health Insurance needed to place ...             5   \n",
       "314216  I was prescribed Cymbalta for anxiety and star...             1   \n",
       "314223  Switched from Effexor to this medicine after 1...             5   \n",
       "314235  Bipolar I with a neck fusion. Pdoc prescribed ...             2   \n",
       "314246  I have depression, anxiety, Fibro, severe musc...             2   \n",
       "\n",
       "           Sex                                              Sides  UsefulCount  \n",
       "314212          Nausea ,  dry mouth ,  constipation , loss of ...           12  \n",
       "314216    Male  Nausea ,  dry mouth ,  constipation , loss of ...            0  \n",
       "314223          Nausea ,  dry mouth ,  constipation , loss of ...            0  \n",
       "314235  Female  Nausea ,  dry mouth ,  constipation , loss of ...            0  \n",
       "314246          Nausea ,  dry mouth ,  constipation , loss of ...            1  "
      ]
     },
     "execution_count": 21,
     "metadata": {},
     "output_type": "execute_result"
    }
   ],
   "source": [
    "data.head()"
   ]
  },
  {
   "cell_type": "markdown",
   "id": "7e680cc7",
   "metadata": {},
   "source": [
    "### Now dataset contains the data of only one drug 'cymbalta'."
   ]
  },
  {
   "cell_type": "markdown",
   "id": "f34aae4e",
   "metadata": {},
   "source": [
    "#### DATA PREPROCESSING"
   ]
  },
  {
   "cell_type": "code",
   "execution_count": 22,
   "id": "f2df3ff3",
   "metadata": {},
   "outputs": [
    {
     "data": {
      "text/plain": [
       "45-54         1291\n",
       "55-64         1008\n",
       "35-44          874\n",
       "25-34          594\n",
       "65-74          400\n",
       "19-24          225\n",
       "               118\n",
       "75 or over     102\n",
       "13-18           34\n",
       "0-2              1\n",
       "7-12             1\n",
       "Name: Age, dtype: int64"
      ]
     },
     "execution_count": 22,
     "metadata": {},
     "output_type": "execute_result"
    }
   ],
   "source": [
    "data['Age'].value_counts()"
   ]
  },
  {
   "cell_type": "markdown",
   "id": "baddb116",
   "metadata": {},
   "source": [
    "Most number of people are in the Age of 45 - 54."
   ]
  },
  {
   "cell_type": "code",
   "execution_count": 23,
   "id": "fc018587",
   "metadata": {},
   "outputs": [
    {
     "data": {
      "text/plain": [
       "Major Depressive Disorder                                    1939\n",
       "Neuropathic Pain                                              699\n",
       "Repeated Episodes of Anxiety                                  577\n",
       "Other                                                         514\n",
       "Disorder characterized by Stiff, Tender & Painful Muscles     409\n",
       "Chronic Muscle or Bone Pain                                   405\n",
       "Anxiousness associated with Depression                         55\n",
       "Diabetic Complication causing Injury to some Body Nerves       50\n",
       "Name: Condition, dtype: int64"
      ]
     },
     "execution_count": 23,
     "metadata": {},
     "output_type": "execute_result"
    }
   ],
   "source": [
    "data['Condition'].value_counts()"
   ]
  },
  {
   "cell_type": "markdown",
   "id": "7bf8efa6",
   "metadata": {},
   "source": [
    "Most number of people falls under Major Depressive Disorder condition."
   ]
  },
  {
   "cell_type": "code",
   "execution_count": 24,
   "id": "03242723",
   "metadata": {},
   "outputs": [
    {
     "data": {
      "text/plain": [
       "5    2502\n",
       "4     998\n",
       "3     484\n",
       "1     476\n",
       "2     188\n",
       "Name: EaseofUse, dtype: int64"
      ]
     },
     "execution_count": 24,
     "metadata": {},
     "output_type": "execute_result"
    }
   ],
   "source": [
    "data['EaseofUse'].value_counts()"
   ]
  },
  {
   "cell_type": "code",
   "execution_count": 25,
   "id": "d53fe275",
   "metadata": {},
   "outputs": [
    {
     "data": {
      "text/plain": [
       "5    1369\n",
       "4    1102\n",
       "1     953\n",
       "3     810\n",
       "2     414\n",
       "Name: Effectiveness, dtype: int64"
      ]
     },
     "execution_count": 25,
     "metadata": {},
     "output_type": "execute_result"
    }
   ],
   "source": [
    "data['Effectiveness'].value_counts()"
   ]
  },
  {
   "cell_type": "code",
   "execution_count": 26,
   "id": "e890af8e",
   "metadata": {},
   "outputs": [
    {
     "data": {
      "text/plain": [
       "                                                                                                                                                                                                                                                                                                                                                                                                                                                                                                                                                                                                      502\n",
       "good                                                                                                                                                                                                                                                                                                                                                                                                                                                                                                                                                                                                    2\n",
       "depression                                                                                                                                                                                                                                                                                                                                                                                                                                                                                                                                                                                              2\n",
       "just started                                                                                                                                                                                                                                                                                                                                                                                                                                                                                                                                                                                            2\n",
       "Life-time depression history. Last bad bout I stayed in bed for 6 months straight. Doctors on the verge of shock therapy when my husband asked about trying Cymbalta. Within 3 days I was out of bed and on my way to recovery. One year later I feel great and am back in college. I love this stuff. I really believe I would have laid in bed and died without it.                                                                                                                                                                                                                                   2\n",
       "                                                                                                                                                                                                                                                                                                                                                                                                                                                                                                                                                                                                     ... \n",
       "I had a bad reaction to the drug. I now have hypotension and I am on medication.                                                                                                                                                                                                                                                                                                                                                                                                                                                                                                                        1\n",
       "I was on Cymbalta for approx 5 months. Pain was completly taken care of (Fibromyalgia). The trouble was I need 12-16 hrs sleep each night and I was experiencing severe sweating, to the point my hair was completly wet.                                                                                                                                                                                                                                                                                                                                                                               1\n",
       "Seems to make me tired and causes me to sleep\\ntoo much. IE: 10-12-14 hours.This is very unusual for me.                                                                                                                                                                                                                                                                                                                                                                                                                                                                                                1\n",
       "Over 20 years ago I was diagnosed with Depression, before depression was accepted in this society.  My first and long time med was Norpramin.  When it was taken off the market - the generic just isn't the same for me, I have not been able to find a med or combination of med to meet my needs.  Cymbalta has been a life saver.  I hope my system doesn't get used to it and the effectiveness decreases.  It has greatly improved my whole outlook on life and I think it has helped my fibro pain; I'm taking Lyrica also, which is also a great help. I feel I have finally found relief.      1\n",
       "On 60mg then 30mg. Had trouble sleeping was irritated w/out realizing it. No sexual desire at all, craved nicotine but am a non smoker.  Worst side affect was having trouble breathing. When getting off meds dizzy, heart racing, light headed, sleeping a lot, extremely emotional.  If it werent for the side effects I would of stayed on it.  However getting off the drug is absolutely horrible. If you have bad side effects in the first month, get off it before you are really addicted to it. Very scary.                                                                                  1\n",
       "Name: Reviews, Length: 4141, dtype: int64"
      ]
     },
     "execution_count": 26,
     "metadata": {},
     "output_type": "execute_result"
    }
   ],
   "source": [
    "data['Reviews'].value_counts()"
   ]
  },
  {
   "cell_type": "code",
   "execution_count": 27,
   "id": "316a6c2c",
   "metadata": {},
   "outputs": [
    {
     "data": {
      "text/plain": [
       "Nausea ,  dry mouth ,  constipation , loss of appetite, tiredness, drowsiness, or increased  sweating  may occur.    4648\n",
       "Name: Sides, dtype: int64"
      ]
     },
     "execution_count": 27,
     "metadata": {},
     "output_type": "execute_result"
    }
   ],
   "source": [
    "data['Sides'].value_counts()"
   ]
  },
  {
   "cell_type": "code",
   "execution_count": 28,
   "id": "3f0de8b9",
   "metadata": {},
   "outputs": [
    {
     "data": {
      "text/plain": [
       "69"
      ]
     },
     "execution_count": 28,
     "metadata": {},
     "output_type": "execute_result"
    }
   ],
   "source": [
    "data['UsefulCount'].nunique()"
   ]
  },
  {
   "cell_type": "code",
   "execution_count": 29,
   "id": "dd3f6694",
   "metadata": {},
   "outputs": [
    {
     "data": {
      "text/plain": [
       "4141"
      ]
     },
     "execution_count": 29,
     "metadata": {},
     "output_type": "execute_result"
    }
   ],
   "source": [
    "data.Reviews.nunique()"
   ]
  },
  {
   "cell_type": "markdown",
   "id": "0624f725",
   "metadata": {},
   "source": [
    "### The columns 'Review' contains 4141 unique entries.so we can neglect the column.Also, the column 'Name', 'Date' , 'DrugId' can be dropped since it is irrelevent to the dataset now.Finally, the column 'Sides' can also be dropped as the side effects are same. Including column' Effectiveness' to know the intensity of side effects."
   ]
  },
  {
   "cell_type": "code",
   "execution_count": 30,
   "id": "ea655461",
   "metadata": {},
   "outputs": [],
   "source": [
    "data=data.drop(['Name', 'Date','Drug','DrugId','Sides','Reviews'],axis=1)"
   ]
  },
  {
   "cell_type": "code",
   "execution_count": 31,
   "id": "abc5c837",
   "metadata": {},
   "outputs": [
    {
     "data": {
      "text/plain": [
       "(4648, 8)"
      ]
     },
     "execution_count": 31,
     "metadata": {},
     "output_type": "execute_result"
    }
   ],
   "source": [
    "data.shape"
   ]
  },
  {
   "cell_type": "code",
   "execution_count": 32,
   "id": "bd76d59d",
   "metadata": {},
   "outputs": [
    {
     "data": {
      "text/html": [
       "<div>\n",
       "<style scoped>\n",
       "    .dataframe tbody tr th:only-of-type {\n",
       "        vertical-align: middle;\n",
       "    }\n",
       "\n",
       "    .dataframe tbody tr th {\n",
       "        vertical-align: top;\n",
       "    }\n",
       "\n",
       "    .dataframe thead th {\n",
       "        text-align: right;\n",
       "    }\n",
       "</style>\n",
       "<table border=\"1\" class=\"dataframe\">\n",
       "  <thead>\n",
       "    <tr style=\"text-align: right;\">\n",
       "      <th></th>\n",
       "      <th>Race</th>\n",
       "      <th>Age</th>\n",
       "      <th>Condition</th>\n",
       "      <th>EaseofUse</th>\n",
       "      <th>Effectiveness</th>\n",
       "      <th>Satisfaction</th>\n",
       "      <th>Sex</th>\n",
       "      <th>UsefulCount</th>\n",
       "    </tr>\n",
       "  </thead>\n",
       "  <tbody>\n",
       "    <tr>\n",
       "      <th>314212</th>\n",
       "      <td>Hispanic</td>\n",
       "      <td></td>\n",
       "      <td>Major Depressive Disorder</td>\n",
       "      <td>5</td>\n",
       "      <td>5</td>\n",
       "      <td>5</td>\n",
       "      <td></td>\n",
       "      <td>12</td>\n",
       "    </tr>\n",
       "    <tr>\n",
       "      <th>314216</th>\n",
       "      <td>White</td>\n",
       "      <td>45-54</td>\n",
       "      <td>Repeated Episodes of Anxiety</td>\n",
       "      <td>3</td>\n",
       "      <td>1</td>\n",
       "      <td>1</td>\n",
       "      <td>Male</td>\n",
       "      <td>0</td>\n",
       "    </tr>\n",
       "    <tr>\n",
       "      <th>314223</th>\n",
       "      <td>Black</td>\n",
       "      <td>45-54</td>\n",
       "      <td>Anxiousness associated with Depression</td>\n",
       "      <td>5</td>\n",
       "      <td>5</td>\n",
       "      <td>5</td>\n",
       "      <td></td>\n",
       "      <td>0</td>\n",
       "    </tr>\n",
       "    <tr>\n",
       "      <th>314235</th>\n",
       "      <td>White</td>\n",
       "      <td>35-44</td>\n",
       "      <td>Anxiousness associated with Depression</td>\n",
       "      <td>3</td>\n",
       "      <td>3</td>\n",
       "      <td>2</td>\n",
       "      <td>Female</td>\n",
       "      <td>0</td>\n",
       "    </tr>\n",
       "    <tr>\n",
       "      <th>314246</th>\n",
       "      <td>Asian</td>\n",
       "      <td>55-64</td>\n",
       "      <td>Chronic Muscle or Bone Pain</td>\n",
       "      <td>2</td>\n",
       "      <td>2</td>\n",
       "      <td>2</td>\n",
       "      <td></td>\n",
       "      <td>1</td>\n",
       "    </tr>\n",
       "  </tbody>\n",
       "</table>\n",
       "</div>"
      ],
      "text/plain": [
       "            Race    Age                               Condition  EaseofUse  \\\n",
       "314212  Hispanic                      Major Depressive Disorder          5   \n",
       "314216     White  45-54            Repeated Episodes of Anxiety          3   \n",
       "314223     Black  45-54  Anxiousness associated with Depression          5   \n",
       "314235     White  35-44  Anxiousness associated with Depression          3   \n",
       "314246     Asian  55-64             Chronic Muscle or Bone Pain          2   \n",
       "\n",
       "        Effectiveness  Satisfaction     Sex  UsefulCount  \n",
       "314212              5             5                   12  \n",
       "314216              1             1    Male            0  \n",
       "314223              5             5                    0  \n",
       "314235              3             2  Female            0  \n",
       "314246              2             2                    1  "
      ]
     },
     "execution_count": 32,
     "metadata": {},
     "output_type": "execute_result"
    }
   ],
   "source": [
    "data.head()"
   ]
  },
  {
   "cell_type": "code",
   "execution_count": 33,
   "id": "b56e3294",
   "metadata": {},
   "outputs": [
    {
     "data": {
      "text/plain": [
       "Race             0\n",
       "Age              0\n",
       "Condition        0\n",
       "EaseofUse        0\n",
       "Effectiveness    0\n",
       "Satisfaction     0\n",
       "Sex              0\n",
       "UsefulCount      0\n",
       "dtype: int64"
      ]
     },
     "execution_count": 33,
     "metadata": {},
     "output_type": "execute_result"
    }
   ],
   "source": [
    "data.isna().sum()"
   ]
  },
  {
   "cell_type": "code",
   "execution_count": 34,
   "id": "d28d7be1",
   "metadata": {},
   "outputs": [
    {
     "data": {
      "text/plain": [
       "45-54         1291\n",
       "55-64         1008\n",
       "35-44          874\n",
       "25-34          594\n",
       "65-74          400\n",
       "19-24          225\n",
       "               118\n",
       "75 or over     102\n",
       "13-18           34\n",
       "0-2              1\n",
       "7-12             1\n",
       "Name: Age, dtype: int64"
      ]
     },
     "execution_count": 34,
     "metadata": {},
     "output_type": "execute_result"
    }
   ],
   "source": [
    "data['Age'].value_counts()"
   ]
  },
  {
   "cell_type": "markdown",
   "id": "fea51637",
   "metadata": {},
   "source": [
    "### Handling Missing Values\n",
    "As we can see a blank space in the 'Age' column, we can fill it with ' 3-6' as it is missing from the range of values of Age"
   ]
  },
  {
   "cell_type": "code",
   "execution_count": 35,
   "id": "627fa765",
   "metadata": {},
   "outputs": [],
   "source": [
    "data['Age'].replace(to_replace = [' '], value = '3-6', inplace = True)"
   ]
  },
  {
   "cell_type": "code",
   "execution_count": 36,
   "id": "1ca76cc4",
   "metadata": {},
   "outputs": [
    {
     "data": {
      "text/plain": [
       "45-54         1291\n",
       "55-64         1008\n",
       "35-44          874\n",
       "25-34          594\n",
       "65-74          400\n",
       "19-24          225\n",
       "3-6            118\n",
       "75 or over     102\n",
       "13-18           34\n",
       "0-2              1\n",
       "7-12             1\n",
       "Name: Age, dtype: int64"
      ]
     },
     "execution_count": 36,
     "metadata": {},
     "output_type": "execute_result"
    }
   ],
   "source": [
    "data['Age'].value_counts()"
   ]
  },
  {
   "cell_type": "code",
   "execution_count": 37,
   "id": "8c035e03",
   "metadata": {},
   "outputs": [
    {
     "data": {
      "text/plain": [
       "Female    3621\n",
       "Male       830\n",
       "           197\n",
       "Name: Sex, dtype: int64"
      ]
     },
     "execution_count": 37,
     "metadata": {},
     "output_type": "execute_result"
    }
   ],
   "source": [
    "data[\"Sex\"].value_counts()"
   ]
  },
  {
   "cell_type": "code",
   "execution_count": 38,
   "id": "b8c258cb",
   "metadata": {},
   "outputs": [],
   "source": [
    "data['Sex'].replace(to_replace = [' '], value = 'Other', inplace = True)"
   ]
  },
  {
   "cell_type": "code",
   "execution_count": 39,
   "id": "94df3b11",
   "metadata": {},
   "outputs": [
    {
     "data": {
      "text/plain": [
       "Female    3621\n",
       "Male       830\n",
       "Other      197\n",
       "Name: Sex, dtype: int64"
      ]
     },
     "execution_count": 39,
     "metadata": {},
     "output_type": "execute_result"
    }
   ],
   "source": [
    "data[\"Sex\"].value_counts()"
   ]
  },
  {
   "cell_type": "markdown",
   "id": "21d00000",
   "metadata": {},
   "source": [
    "### CORRELATION"
   ]
  },
  {
   "cell_type": "code",
   "execution_count": 40,
   "id": "322646aa",
   "metadata": {},
   "outputs": [
    {
     "data": {
      "text/plain": [
       "<AxesSubplot:>"
      ]
     },
     "execution_count": 40,
     "metadata": {},
     "output_type": "execute_result"
    },
    {
     "data": {
      "image/png": "[encoded data removed]",
      "text/plain": [
       "<Figure size 1400x800 with 2 Axes>"
      ]
     },
     "metadata": {},
     "output_type": "display_data"
    }
   ],
   "source": [
    "corrmatrix = data.corr()\n",
    "plt.subplots(figsize=(14,8))\n",
    "sns.heatmap(corrmatrix,vmin=-0.4 , vmax=0.9, annot=True, cmap='YlGnBu' , linewidth=0.2)"
   ]
  },
  {
   "cell_type": "markdown",
   "id": "9f83d83f",
   "metadata": {},
   "source": [
    "High Correlation between Effectiveness and Satisfaction"
   ]
  },
  {
   "cell_type": "markdown",
   "id": "5e2e9b4d",
   "metadata": {},
   "source": [
    "### Checking for Outliers in Dataset"
   ]
  },
  {
   "cell_type": "code",
   "execution_count": 41,
   "id": "24a38587",
   "metadata": {},
   "outputs": [
    {
     "data": {
      "image/png": "[encoded data removed]",
      "text/plain": [
       "<Figure size 800x600 with 4 Axes>"
      ]
     },
     "metadata": {},
     "output_type": "display_data"
    }
   ],
   "source": [
    "#We can spot outliers by plotting box plots.\n",
    "plt.figure(figsize=(8,6))\n",
    "\n",
    "plt.subplot(2,2,1)\n",
    "plt.boxplot(data[\"EaseofUse\"])\n",
    "plt.title(\"BOX PLOT OF EASE OF USE\")\n",
    "\n",
    "plt.subplot(2,2,2)\n",
    "plt.boxplot(data[\"Effectiveness\"])\n",
    "plt.title(\"BOX PLOT OF EFFECTIVENESS\")\n",
    "\n",
    "plt.subplot(2,2,3)\n",
    "plt.boxplot(data[\"Satisfaction\"])\n",
    "plt.title(\"BOX PLOT OF SATISFACTION\")\n",
    "\n",
    "plt.subplot(2,2,4)\n",
    "plt.boxplot(data[\"UsefulCount\"])\n",
    "plt.title(\"BOX PLOT OF USEFUL COUNT\")\n",
    "\n",
    "plt.show()"
   ]
  },
  {
   "cell_type": "markdown",
   "id": "55220147",
   "metadata": {},
   "source": [
    "Outliers spotted in the column ' Useful Count ' and ' Ease of use '."
   ]
  },
  {
   "cell_type": "code",
   "execution_count": 42,
   "id": "ddd14aaf",
   "metadata": {},
   "outputs": [
    {
     "name": "stdout",
     "output_type": "stream",
     "text": [
      "lower limit= -8.5\n",
      "upperlimit = 19.5\n"
     ]
    }
   ],
   "source": [
    "#Indexing Outliers in the column ' Useful Count ' with IQR Method.\n",
    "Q1=np.percentile(data[\"UsefulCount\"],25,interpolation=\"midpoint\")\n",
    "Q3=np.percentile(data[\"UsefulCount\"],75,interpolation=\"midpoint\")\n",
    "IQR=Q3-Q1\n",
    "low=Q1-(1.5*IQR)\n",
    "upper=Q3+(1.5*IQR)\n",
    "print(\"lower limit=\",low)\n",
    "print(\"upperlimit =\",upper)"
   ]
  },
  {
   "cell_type": "code",
   "execution_count": 43,
   "id": "b7cbf16d",
   "metadata": {},
   "outputs": [
    {
     "data": {
      "text/plain": [
       "[22,\n",
       " 27,\n",
       " 30,\n",
       " 30,\n",
       " 28,\n",
       " 21,\n",
       " 36,\n",
       " 35,\n",
       " 34,\n",
       " 25,\n",
       " 39,\n",
       " 56,\n",
       " 29,\n",
       " 71,\n",
       " 23,\n",
       " 29,\n",
       " 21,\n",
       " 32,\n",
       " 24,\n",
       " 22,\n",
       " 21,\n",
       " 25,\n",
       " 21,\n",
       " 25,\n",
       " 32,\n",
       " 22,\n",
       " 30,\n",
       " 20,\n",
       " 42,\n",
       " 30,\n",
       " 22,\n",
       " 103,\n",
       " 38,\n",
       " 28,\n",
       " 30,\n",
       " 33,\n",
       " 26,\n",
       " 61,\n",
       " 25,\n",
       " 26,\n",
       " 28,\n",
       " 41,\n",
       " 93,\n",
       " 90,\n",
       " 134,\n",
       " 145,\n",
       " 51,\n",
       " 27,\n",
       " 29,\n",
       " 43,\n",
       " 39,\n",
       " 30,\n",
       " 22,\n",
       " 21,\n",
       " 35,\n",
       " 33,\n",
       " 48,\n",
       " 36,\n",
       " 56,\n",
       " 27,\n",
       " 38,\n",
       " 21,\n",
       " 24,\n",
       " 30,\n",
       " 22,\n",
       " 22,\n",
       " 21,\n",
       " 31,\n",
       " 21,\n",
       " 21,\n",
       " 25,\n",
       " 93,\n",
       " 24,\n",
       " 31,\n",
       " 35,\n",
       " 82,\n",
       " 20,\n",
       " 33,\n",
       " 25,\n",
       " 58,\n",
       " 20,\n",
       " 46,\n",
       " 21,\n",
       " 47,\n",
       " 45,\n",
       " 44,\n",
       " 34,\n",
       " 60,\n",
       " 48,\n",
       " 26,\n",
       " 29,\n",
       " 50,\n",
       " 36,\n",
       " 20,\n",
       " 25,\n",
       " 47,\n",
       " 20,\n",
       " 20,\n",
       " 23,\n",
       " 41,\n",
       " 26,\n",
       " 21,\n",
       " 22,\n",
       " 25,\n",
       " 21,\n",
       " 23,\n",
       " 22,\n",
       " 28,\n",
       " 22,\n",
       " 21,\n",
       " 28,\n",
       " 20,\n",
       " 42,\n",
       " 27,\n",
       " 20,\n",
       " 28,\n",
       " 22,\n",
       " 26,\n",
       " 25,\n",
       " 29,\n",
       " 23,\n",
       " 26,\n",
       " 116,\n",
       " 21,\n",
       " 51,\n",
       " 40,\n",
       " 29,\n",
       " 20,\n",
       " 28,\n",
       " 28,\n",
       " 25,\n",
       " 21,\n",
       " 34,\n",
       " 31,\n",
       " 30,\n",
       " 23,\n",
       " 20,\n",
       " 20,\n",
       " 26,\n",
       " 35,\n",
       " 29,\n",
       " 65,\n",
       " 24,\n",
       " 22,\n",
       " 30,\n",
       " 20,\n",
       " 26,\n",
       " 34,\n",
       " 20,\n",
       " 21,\n",
       " 46,\n",
       " 23,\n",
       " 20,\n",
       " 23,\n",
       " 27,\n",
       " 27,\n",
       " 35,\n",
       " 21,\n",
       " 25,\n",
       " 20,\n",
       " 21,\n",
       " 21,\n",
       " 28,\n",
       " 97,\n",
       " 23,\n",
       " 23,\n",
       " 22,\n",
       " 33,\n",
       " 56,\n",
       " 45,\n",
       " 22,\n",
       " 39,\n",
       " 21,\n",
       " 23,\n",
       " 41,\n",
       " 77,\n",
       " 31,\n",
       " 129,\n",
       " 24,\n",
       " 22,\n",
       " 20,\n",
       " 31,\n",
       " 24,\n",
       " 34,\n",
       " 22,\n",
       " 20,\n",
       " 21,\n",
       " 23,\n",
       " 24,\n",
       " 21,\n",
       " 22,\n",
       " 22,\n",
       " 21,\n",
       " 20,\n",
       " 29,\n",
       " 22,\n",
       " 22,\n",
       " 23,\n",
       " 20,\n",
       " 22,\n",
       " 22,\n",
       " 28,\n",
       " 24,\n",
       " 20,\n",
       " 20,\n",
       " 22,\n",
       " 24,\n",
       " 20,\n",
       " 21,\n",
       " 22,\n",
       " 32,\n",
       " 21,\n",
       " 20,\n",
       " 21,\n",
       " 27,\n",
       " 46,\n",
       " 31,\n",
       " 29,\n",
       " 44,\n",
       " 46,\n",
       " 36,\n",
       " 28,\n",
       " 28,\n",
       " 50,\n",
       " 68,\n",
       " 31,\n",
       " 38,\n",
       " 36,\n",
       " 23,\n",
       " 20,\n",
       " 59,\n",
       " 28,\n",
       " 28,\n",
       " 24,\n",
       " 58,\n",
       " 26,\n",
       " 25,\n",
       " 23,\n",
       " 23,\n",
       " 23,\n",
       " 24,\n",
       " 33,\n",
       " 44,\n",
       " 25,\n",
       " 43,\n",
       " 20,\n",
       " 37,\n",
       " 20,\n",
       " 24,\n",
       " 26,\n",
       " 22,\n",
       " 29,\n",
       " 36,\n",
       " 23,\n",
       " 44,\n",
       " 25,\n",
       " 27,\n",
       " 29]"
      ]
     },
     "execution_count": 43,
     "metadata": {},
     "output_type": "execute_result"
    }
   ],
   "source": [
    "outlier = []\n",
    "for x in data['UsefulCount']:\n",
    "    if((x>upper)or(x<low)):\n",
    "        outlier.append(x)\n",
    "outlier"
   ]
  },
  {
   "cell_type": "code",
   "execution_count": 44,
   "id": "234437b1",
   "metadata": {},
   "outputs": [],
   "source": [
    "data=data.drop(data.loc[data[\"UsefulCount\"]>upper].index)"
   ]
  },
  {
   "cell_type": "code",
   "execution_count": 45,
   "id": "c7fbac15",
   "metadata": {},
   "outputs": [
    {
     "data": {
      "image/png": "[encoded data removed]",
      "text/plain": [
       "<Figure size 640x480 with 1 Axes>"
      ]
     },
     "metadata": {},
     "output_type": "display_data"
    }
   ],
   "source": [
    "plt.boxplot(data[\"UsefulCount\"])\n",
    "plt.show()"
   ]
  },
  {
   "cell_type": "code",
   "execution_count": 46,
   "id": "0b693613",
   "metadata": {},
   "outputs": [
    {
     "name": "stdout",
     "output_type": "stream",
     "text": [
      "lower limit= 2.5\n",
      "upperlimit =  6.5\n"
     ]
    }
   ],
   "source": [
    "#Indexing Outliers in the column ' Ease of Use ' with IQR Method.\n",
    "Q1=np.percentile(data[\"EaseofUse\"],25,interpolation=\"midpoint\")\n",
    "Q3=np.percentile(data[\"EaseofUse\"],75,interpolation=\"midpoint\")\n",
    "IQR=Q3-Q1\n",
    "low=Q1-(1.5*IQR)\n",
    "upper=Q3+(1.5*IQR)\n",
    "print(\"lower limit=\",low)\n",
    "print(\"upperlimit = \",upper)"
   ]
  },
  {
   "cell_type": "code",
   "execution_count": 47,
   "id": "dfb58944",
   "metadata": {},
   "outputs": [
    {
     "data": {
      "text/plain": [
       "[2,\n",
       " 2,\n",
       " 1,\n",
       " 1,\n",
       " 1,\n",
       " 2,\n",
       " 1,\n",
       " 1,\n",
       " 1,\n",
       " 1,\n",
       " 1,\n",
       " 1,\n",
       " 1,\n",
       " 1,\n",
       " 1,\n",
       " 1,\n",
       " 1,\n",
       " 1,\n",
       " 1,\n",
       " 1,\n",
       " 2,\n",
       " 1,\n",
       " 1,\n",
       " 1,\n",
       " 1,\n",
       " 2,\n",
       " 2,\n",
       " 1,\n",
       " 1,\n",
       " 1,\n",
       " 1,\n",
       " 1,\n",
       " 2,\n",
       " 1,\n",
       " 1,\n",
       " 1,\n",
       " 2,\n",
       " 1,\n",
       " 1,\n",
       " 1,\n",
       " 1,\n",
       " 1,\n",
       " 2,\n",
       " 1,\n",
       " 2,\n",
       " 1,\n",
       " 1,\n",
       " 1,\n",
       " 1,\n",
       " 2,\n",
       " 1,\n",
       " 1,\n",
       " 1,\n",
       " 1,\n",
       " 1,\n",
       " 1,\n",
       " 1,\n",
       " 1,\n",
       " 1,\n",
       " 1,\n",
       " 1,\n",
       " 1,\n",
       " 1,\n",
       " 1,\n",
       " 2,\n",
       " 2,\n",
       " 2,\n",
       " 1,\n",
       " 1,\n",
       " 1,\n",
       " 1,\n",
       " 2,\n",
       " 1,\n",
       " 1,\n",
       " 2,\n",
       " 1,\n",
       " 2,\n",
       " 1,\n",
       " 2,\n",
       " 2,\n",
       " 1,\n",
       " 1,\n",
       " 1,\n",
       " 1,\n",
       " 1,\n",
       " 2,\n",
       " 1,\n",
       " 1,\n",
       " 2,\n",
       " 1,\n",
       " 1,\n",
       " 1,\n",
       " 1,\n",
       " 1,\n",
       " 1,\n",
       " 1,\n",
       " 1,\n",
       " 1,\n",
       " 1,\n",
       " 1,\n",
       " 1,\n",
       " 2,\n",
       " 1,\n",
       " 2,\n",
       " 1,\n",
       " 1,\n",
       " 1,\n",
       " 1,\n",
       " 1,\n",
       " 1,\n",
       " 1,\n",
       " 1,\n",
       " 1,\n",
       " 2,\n",
       " 1,\n",
       " 1,\n",
       " 1,\n",
       " 2,\n",
       " 1,\n",
       " 1,\n",
       " 1,\n",
       " 1,\n",
       " 1,\n",
       " 1,\n",
       " 1,\n",
       " 1,\n",
       " 1,\n",
       " 1,\n",
       " 1,\n",
       " 1,\n",
       " 2,\n",
       " 1,\n",
       " 1,\n",
       " 1,\n",
       " 1,\n",
       " 1,\n",
       " 1,\n",
       " 1,\n",
       " 2,\n",
       " 1,\n",
       " 1,\n",
       " 1,\n",
       " 1,\n",
       " 1,\n",
       " 1,\n",
       " 2,\n",
       " 1,\n",
       " 2,\n",
       " 1,\n",
       " 1,\n",
       " 1,\n",
       " 1,\n",
       " 2,\n",
       " 2,\n",
       " 1,\n",
       " 1,\n",
       " 1,\n",
       " 2,\n",
       " 1,\n",
       " 2,\n",
       " 2,\n",
       " 1,\n",
       " 1,\n",
       " 1,\n",
       " 1,\n",
       " 1,\n",
       " 1,\n",
       " 1,\n",
       " 2,\n",
       " 1,\n",
       " 1,\n",
       " 1,\n",
       " 1,\n",
       " 1,\n",
       " 1,\n",
       " 1,\n",
       " 2,\n",
       " 2,\n",
       " 1,\n",
       " 1,\n",
       " 1,\n",
       " 1,\n",
       " 2,\n",
       " 1,\n",
       " 1,\n",
       " 1,\n",
       " 1,\n",
       " 2,\n",
       " 1,\n",
       " 1,\n",
       " 1,\n",
       " 1,\n",
       " 2,\n",
       " 1,\n",
       " 1,\n",
       " 1,\n",
       " 2,\n",
       " 1,\n",
       " 1,\n",
       " 1,\n",
       " 2,\n",
       " 1,\n",
       " 2,\n",
       " 2,\n",
       " 1,\n",
       " 1,\n",
       " 1,\n",
       " 1,\n",
       " 2,\n",
       " 2,\n",
       " 2,\n",
       " 2,\n",
       " 1,\n",
       " 2,\n",
       " 1,\n",
       " 1,\n",
       " 1,\n",
       " 1,\n",
       " 1,\n",
       " 1,\n",
       " 1,\n",
       " 1,\n",
       " 1,\n",
       " 1,\n",
       " 1,\n",
       " 2,\n",
       " 2,\n",
       " 1,\n",
       " 1,\n",
       " 1,\n",
       " 1,\n",
       " 2,\n",
       " 1,\n",
       " 1,\n",
       " 1,\n",
       " 1,\n",
       " 2,\n",
       " 1,\n",
       " 1,\n",
       " 1,\n",
       " 2,\n",
       " 1,\n",
       " 2,\n",
       " 1,\n",
       " 1,\n",
       " 2,\n",
       " 1,\n",
       " 1,\n",
       " 1,\n",
       " 1,\n",
       " 1,\n",
       " 2,\n",
       " 2,\n",
       " 1,\n",
       " 1,\n",
       " 1,\n",
       " 2,\n",
       " 1,\n",
       " 1,\n",
       " 2,\n",
       " 2,\n",
       " 1,\n",
       " 1,\n",
       " 1,\n",
       " 2,\n",
       " 1,\n",
       " 2,\n",
       " 2,\n",
       " 1,\n",
       " 1,\n",
       " 1,\n",
       " 1,\n",
       " 1,\n",
       " 1,\n",
       " 2,\n",
       " 1,\n",
       " 2,\n",
       " 1,\n",
       " 2,\n",
       " 1,\n",
       " 1,\n",
       " 1,\n",
       " 1,\n",
       " 2,\n",
       " 1,\n",
       " 1,\n",
       " 2,\n",
       " 1,\n",
       " 1,\n",
       " 1,\n",
       " 1,\n",
       " 2,\n",
       " 1,\n",
       " 2,\n",
       " 1,\n",
       " 2,\n",
       " 2,\n",
       " 1,\n",
       " 2,\n",
       " 1,\n",
       " 2,\n",
       " 1,\n",
       " 2,\n",
       " 2,\n",
       " 1,\n",
       " 2,\n",
       " 2,\n",
       " 2,\n",
       " 1,\n",
       " 2,\n",
       " 2,\n",
       " 1,\n",
       " 1,\n",
       " 1,\n",
       " 2,\n",
       " 1,\n",
       " 1,\n",
       " 1,\n",
       " 1,\n",
       " 1,\n",
       " 1,\n",
       " 2,\n",
       " 2,\n",
       " 1,\n",
       " 1,\n",
       " 2,\n",
       " 1,\n",
       " 1,\n",
       " 1,\n",
       " 1,\n",
       " 1,\n",
       " 2,\n",
       " 2,\n",
       " 2,\n",
       " 1,\n",
       " 2,\n",
       " 2,\n",
       " 1,\n",
       " 1,\n",
       " 2,\n",
       " 1,\n",
       " 1,\n",
       " 1,\n",
       " 2,\n",
       " 2,\n",
       " 1,\n",
       " 1,\n",
       " 1,\n",
       " 1,\n",
       " 1,\n",
       " 1,\n",
       " 1,\n",
       " 1,\n",
       " 2,\n",
       " 1,\n",
       " 1,\n",
       " 1,\n",
       " 1,\n",
       " 1,\n",
       " 1,\n",
       " 1,\n",
       " 1,\n",
       " 2,\n",
       " 2,\n",
       " 1,\n",
       " 1,\n",
       " 1,\n",
       " 1,\n",
       " 1,\n",
       " 1,\n",
       " 2,\n",
       " 1,\n",
       " 1,\n",
       " 1,\n",
       " 2,\n",
       " 1,\n",
       " 2,\n",
       " 1,\n",
       " 2,\n",
       " 1,\n",
       " 1,\n",
       " 1,\n",
       " 1,\n",
       " 1,\n",
       " 1,\n",
       " 1,\n",
       " 2,\n",
       " 2,\n",
       " 1,\n",
       " 1,\n",
       " 1,\n",
       " 1,\n",
       " 1,\n",
       " 2,\n",
       " 2,\n",
       " 1,\n",
       " 1,\n",
       " 1,\n",
       " 1,\n",
       " 2,\n",
       " 1,\n",
       " 2,\n",
       " 1,\n",
       " 2,\n",
       " 1,\n",
       " 2,\n",
       " 2,\n",
       " 1,\n",
       " 2,\n",
       " 2,\n",
       " 1,\n",
       " 1,\n",
       " 1,\n",
       " 1,\n",
       " 2,\n",
       " 1,\n",
       " 2,\n",
       " 1,\n",
       " 2,\n",
       " 2,\n",
       " 2,\n",
       " 2,\n",
       " 1,\n",
       " 1,\n",
       " 2,\n",
       " 1,\n",
       " 1,\n",
       " 2,\n",
       " 1,\n",
       " 1,\n",
       " 1,\n",
       " 1,\n",
       " 1,\n",
       " 2,\n",
       " 1,\n",
       " 1,\n",
       " 1,\n",
       " 1,\n",
       " 2,\n",
       " 1,\n",
       " 1,\n",
       " 1,\n",
       " 1,\n",
       " 2,\n",
       " 1,\n",
       " 2,\n",
       " 2,\n",
       " 2,\n",
       " 2,\n",
       " 1,\n",
       " 2,\n",
       " 2,\n",
       " 1,\n",
       " 2,\n",
       " 2,\n",
       " 1,\n",
       " 1,\n",
       " 2,\n",
       " 1,\n",
       " 2,\n",
       " 1,\n",
       " 1,\n",
       " 1,\n",
       " 1,\n",
       " 1,\n",
       " 1,\n",
       " 1,\n",
       " 1,\n",
       " 1,\n",
       " 1,\n",
       " 2,\n",
       " 1,\n",
       " 2,\n",
       " 2,\n",
       " 1,\n",
       " 1,\n",
       " 1,\n",
       " 1,\n",
       " 1,\n",
       " 2,\n",
       " 1,\n",
       " 1,\n",
       " 1,\n",
       " 1,\n",
       " 1,\n",
       " 1,\n",
       " 2,\n",
       " 1,\n",
       " 1,\n",
       " 1,\n",
       " 2,\n",
       " 1,\n",
       " 2,\n",
       " 1,\n",
       " 1,\n",
       " 1,\n",
       " 1,\n",
       " 2,\n",
       " 1,\n",
       " 1,\n",
       " 1,\n",
       " 2,\n",
       " 1,\n",
       " 1,\n",
       " 1,\n",
       " 1,\n",
       " 1,\n",
       " 2,\n",
       " 1,\n",
       " 1,\n",
       " 2,\n",
       " 1,\n",
       " 1,\n",
       " 2,\n",
       " 2,\n",
       " 2,\n",
       " 1,\n",
       " 2,\n",
       " 2,\n",
       " 1,\n",
       " 1,\n",
       " 2,\n",
       " 2,\n",
       " 1,\n",
       " 1,\n",
       " 1,\n",
       " 2,\n",
       " 1,\n",
       " 2,\n",
       " 1,\n",
       " 1,\n",
       " 1,\n",
       " 2,\n",
       " 1,\n",
       " 1,\n",
       " 2,\n",
       " 1,\n",
       " 1,\n",
       " 1,\n",
       " 1,\n",
       " 1,\n",
       " 2,\n",
       " 1,\n",
       " 1,\n",
       " 2,\n",
       " 1,\n",
       " 2,\n",
       " 2,\n",
       " 1,\n",
       " 1,\n",
       " 1,\n",
       " 1,\n",
       " 2,\n",
       " 2,\n",
       " 2,\n",
       " 1,\n",
       " 2,\n",
       " 2,\n",
       " 1,\n",
       " 2,\n",
       " 2,\n",
       " 1,\n",
       " 1,\n",
       " 2,\n",
       " 2,\n",
       " 1,\n",
       " 1,\n",
       " 1,\n",
       " 1,\n",
       " 1,\n",
       " 2,\n",
       " 1,\n",
       " 1,\n",
       " 1,\n",
       " 1,\n",
       " 1,\n",
       " 2,\n",
       " 1,\n",
       " 1,\n",
       " 1,\n",
       " 1,\n",
       " 1,\n",
       " 1,\n",
       " 1,\n",
       " 2,\n",
       " 1,\n",
       " 1,\n",
       " 1,\n",
       " 1,\n",
       " 1,\n",
       " 1,\n",
       " 1,\n",
       " 2,\n",
       " 1,\n",
       " 1,\n",
       " 2,\n",
       " 1,\n",
       " 1,\n",
       " 2,\n",
       " 2,\n",
       " 1,\n",
       " 1,\n",
       " 1,\n",
       " 1,\n",
       " 1,\n",
       " 1,\n",
       " 1,\n",
       " 1,\n",
       " 2,\n",
       " 1,\n",
       " 1,\n",
       " 2,\n",
       " 1,\n",
       " 2,\n",
       " 1,\n",
       " 1,\n",
       " 1,\n",
       " 1,\n",
       " 2,\n",
       " 1,\n",
       " 1]"
      ]
     },
     "execution_count": 47,
     "metadata": {},
     "output_type": "execute_result"
    }
   ],
   "source": [
    "outlier = []\n",
    "for x in data['EaseofUse']:\n",
    "    if((x>upper)or(x<low)):\n",
    "        outlier.append(x)\n",
    "outlier"
   ]
  },
  {
   "cell_type": "code",
   "execution_count": 48,
   "id": "20d83ce5",
   "metadata": {},
   "outputs": [],
   "source": [
    "data=data.drop(data.loc[data[\"EaseofUse\"]>upper].index)\n",
    "data=data.drop(data.loc[data[\"EaseofUse\"]<low].index)"
   ]
  },
  {
   "cell_type": "code",
   "execution_count": 49,
   "id": "f61e2858",
   "metadata": {},
   "outputs": [
    {
     "data": {
      "image/png": "[encoded data removed]",
      "text/plain": [
       "<Figure size 640x480 with 1 Axes>"
      ]
     },
     "metadata": {},
     "output_type": "display_data"
    }
   ],
   "source": [
    "plt.boxplot(data[\"EaseofUse\"])\n",
    "plt.show()"
   ]
  },
  {
   "cell_type": "markdown",
   "id": "e69286ec",
   "metadata": {},
   "source": [
    "Outliers removed from both 'UsefulCount' and 'EaseofUse'columns."
   ]
  },
  {
   "cell_type": "code",
   "execution_count": 50,
   "id": "da81918b",
   "metadata": {},
   "outputs": [
    {
     "data": {
      "text/plain": [
       "(3769, 8)"
      ]
     },
     "execution_count": 50,
     "metadata": {},
     "output_type": "execute_result"
    }
   ],
   "source": [
    "data.shape"
   ]
  },
  {
   "cell_type": "code",
   "execution_count": 51,
   "id": "d54d60c3",
   "metadata": {},
   "outputs": [],
   "source": [
    "my_list = list(range(3769))\n",
    "data = data.set_index([my_list])"
   ]
  },
  {
   "cell_type": "code",
   "execution_count": 52,
   "id": "6606576b",
   "metadata": {},
   "outputs": [
    {
     "data": {
      "text/html": [
       "<div>\n",
       "<style scoped>\n",
       "    .dataframe tbody tr th:only-of-type {\n",
       "        vertical-align: middle;\n",
       "    }\n",
       "\n",
       "    .dataframe tbody tr th {\n",
       "        vertical-align: top;\n",
       "    }\n",
       "\n",
       "    .dataframe thead th {\n",
       "        text-align: right;\n",
       "    }\n",
       "</style>\n",
       "<table border=\"1\" class=\"dataframe\">\n",
       "  <thead>\n",
       "    <tr style=\"text-align: right;\">\n",
       "      <th></th>\n",
       "      <th>Race</th>\n",
       "      <th>Age</th>\n",
       "      <th>Condition</th>\n",
       "      <th>EaseofUse</th>\n",
       "      <th>Effectiveness</th>\n",
       "      <th>Satisfaction</th>\n",
       "      <th>Sex</th>\n",
       "      <th>UsefulCount</th>\n",
       "    </tr>\n",
       "  </thead>\n",
       "  <tbody>\n",
       "    <tr>\n",
       "      <th>0</th>\n",
       "      <td>Hispanic</td>\n",
       "      <td>3-6</td>\n",
       "      <td>Major Depressive Disorder</td>\n",
       "      <td>5</td>\n",
       "      <td>5</td>\n",
       "      <td>5</td>\n",
       "      <td>Other</td>\n",
       "      <td>12</td>\n",
       "    </tr>\n",
       "    <tr>\n",
       "      <th>1</th>\n",
       "      <td>White</td>\n",
       "      <td>45-54</td>\n",
       "      <td>Repeated Episodes of Anxiety</td>\n",
       "      <td>3</td>\n",
       "      <td>1</td>\n",
       "      <td>1</td>\n",
       "      <td>Male</td>\n",
       "      <td>0</td>\n",
       "    </tr>\n",
       "    <tr>\n",
       "      <th>2</th>\n",
       "      <td>Black</td>\n",
       "      <td>45-54</td>\n",
       "      <td>Anxiousness associated with Depression</td>\n",
       "      <td>5</td>\n",
       "      <td>5</td>\n",
       "      <td>5</td>\n",
       "      <td>Other</td>\n",
       "      <td>0</td>\n",
       "    </tr>\n",
       "    <tr>\n",
       "      <th>3</th>\n",
       "      <td>White</td>\n",
       "      <td>35-44</td>\n",
       "      <td>Anxiousness associated with Depression</td>\n",
       "      <td>3</td>\n",
       "      <td>3</td>\n",
       "      <td>2</td>\n",
       "      <td>Female</td>\n",
       "      <td>0</td>\n",
       "    </tr>\n",
       "    <tr>\n",
       "      <th>4</th>\n",
       "      <td>White</td>\n",
       "      <td>55-64</td>\n",
       "      <td>Anxiousness associated with Depression</td>\n",
       "      <td>3</td>\n",
       "      <td>3</td>\n",
       "      <td>1</td>\n",
       "      <td>Other</td>\n",
       "      <td>1</td>\n",
       "    </tr>\n",
       "  </tbody>\n",
       "</table>\n",
       "</div>"
      ],
      "text/plain": [
       "       Race    Age                               Condition  EaseofUse  \\\n",
       "0  Hispanic    3-6               Major Depressive Disorder          5   \n",
       "1     White  45-54            Repeated Episodes of Anxiety          3   \n",
       "2     Black  45-54  Anxiousness associated with Depression          5   \n",
       "3     White  35-44  Anxiousness associated with Depression          3   \n",
       "4     White  55-64  Anxiousness associated with Depression          3   \n",
       "\n",
       "   Effectiveness  Satisfaction     Sex  UsefulCount  \n",
       "0              5             5   Other           12  \n",
       "1              1             1    Male            0  \n",
       "2              5             5   Other            0  \n",
       "3              3             2  Female            0  \n",
       "4              3             1   Other            1  "
      ]
     },
     "execution_count": 52,
     "metadata": {},
     "output_type": "execute_result"
    }
   ],
   "source": [
    "data.head()"
   ]
  },
  {
   "cell_type": "markdown",
   "id": "813c6df6",
   "metadata": {},
   "source": [
    "#### Replacing the values of the column ' Effectiveness ' into categorical values as No side effects,Mild side effects ,Moderate side effects,Severe side effects,Extreme severe side effects."
   ]
  },
  {
   "cell_type": "code",
   "execution_count": 60,
   "id": "a3ba72aa",
   "metadata": {},
   "outputs": [],
   "source": [
    "data['Effectiveness'].replace(to_replace = [1], value =['Extreme severe side effects'], inplace = True)"
   ]
  },
  {
   "cell_type": "code",
   "execution_count": 61,
   "id": "170f8d34",
   "metadata": {},
   "outputs": [],
   "source": [
    "data['Effectiveness'].replace(to_replace = [2], value =['Severe side effects'], inplace = True)"
   ]
  },
  {
   "cell_type": "code",
   "execution_count": 62,
   "id": "67c8eed1",
   "metadata": {},
   "outputs": [],
   "source": [
    "data['Effectiveness'].replace(to_replace = [3], value =['Moderate side effects'], inplace = True)"
   ]
  },
  {
   "cell_type": "code",
   "execution_count": 63,
   "id": "157baa81",
   "metadata": {},
   "outputs": [],
   "source": [
    "data['Effectiveness'].replace(to_replace = [4], value =['Mild side effects'], inplace = True)"
   ]
  },
  {
   "cell_type": "code",
   "execution_count": 64,
   "id": "b25e7d3e",
   "metadata": {},
   "outputs": [],
   "source": [
    "data['Effectiveness'].replace(to_replace = [5], value =['No side effects'], inplace = True)"
   ]
  },
  {
   "cell_type": "code",
   "execution_count": 66,
   "id": "e887a0a9",
   "metadata": {},
   "outputs": [
    {
     "data": {
      "text/html": [
       "<div>\n",
       "<style scoped>\n",
       "    .dataframe tbody tr th:only-of-type {\n",
       "        vertical-align: middle;\n",
       "    }\n",
       "\n",
       "    .dataframe tbody tr th {\n",
       "        vertical-align: top;\n",
       "    }\n",
       "\n",
       "    .dataframe thead th {\n",
       "        text-align: right;\n",
       "    }\n",
       "</style>\n",
       "<table border=\"1\" class=\"dataframe\">\n",
       "  <thead>\n",
       "    <tr style=\"text-align: right;\">\n",
       "      <th></th>\n",
       "      <th>Race</th>\n",
       "      <th>Age</th>\n",
       "      <th>Condition</th>\n",
       "      <th>EaseofUse</th>\n",
       "      <th>Effectiveness</th>\n",
       "      <th>Satisfaction</th>\n",
       "      <th>Sex</th>\n",
       "      <th>UsefulCount</th>\n",
       "    </tr>\n",
       "  </thead>\n",
       "  <tbody>\n",
       "    <tr>\n",
       "      <th>0</th>\n",
       "      <td>Hispanic</td>\n",
       "      <td>3-6</td>\n",
       "      <td>Major Depressive Disorder</td>\n",
       "      <td>5</td>\n",
       "      <td>no side effects</td>\n",
       "      <td>5</td>\n",
       "      <td>Other</td>\n",
       "      <td>12</td>\n",
       "    </tr>\n",
       "    <tr>\n",
       "      <th>1</th>\n",
       "      <td>White</td>\n",
       "      <td>45-54</td>\n",
       "      <td>Repeated Episodes of Anxiety</td>\n",
       "      <td>3</td>\n",
       "      <td>extreme severe side effects</td>\n",
       "      <td>1</td>\n",
       "      <td>Male</td>\n",
       "      <td>0</td>\n",
       "    </tr>\n",
       "    <tr>\n",
       "      <th>2</th>\n",
       "      <td>Black</td>\n",
       "      <td>45-54</td>\n",
       "      <td>Anxiousness associated with Depression</td>\n",
       "      <td>5</td>\n",
       "      <td>no side effects</td>\n",
       "      <td>5</td>\n",
       "      <td>Other</td>\n",
       "      <td>0</td>\n",
       "    </tr>\n",
       "    <tr>\n",
       "      <th>3</th>\n",
       "      <td>White</td>\n",
       "      <td>35-44</td>\n",
       "      <td>Anxiousness associated with Depression</td>\n",
       "      <td>3</td>\n",
       "      <td>moderate side effects</td>\n",
       "      <td>2</td>\n",
       "      <td>Female</td>\n",
       "      <td>0</td>\n",
       "    </tr>\n",
       "    <tr>\n",
       "      <th>4</th>\n",
       "      <td>White</td>\n",
       "      <td>55-64</td>\n",
       "      <td>Anxiousness associated with Depression</td>\n",
       "      <td>3</td>\n",
       "      <td>moderate side effects</td>\n",
       "      <td>1</td>\n",
       "      <td>Other</td>\n",
       "      <td>1</td>\n",
       "    </tr>\n",
       "  </tbody>\n",
       "</table>\n",
       "</div>"
      ],
      "text/plain": [
       "       Race    Age                               Condition  EaseofUse  \\\n",
       "0  Hispanic    3-6               Major Depressive Disorder          5   \n",
       "1     White  45-54            Repeated Episodes of Anxiety          3   \n",
       "2     Black  45-54  Anxiousness associated with Depression          5   \n",
       "3     White  35-44  Anxiousness associated with Depression          3   \n",
       "4     White  55-64  Anxiousness associated with Depression          3   \n",
       "\n",
       "                 Effectiveness  Satisfaction     Sex  UsefulCount  \n",
       "0              no side effects             5   Other           12  \n",
       "1  extreme severe side effects             1    Male            0  \n",
       "2              no side effects             5   Other            0  \n",
       "3        moderate side effects             2  Female            0  \n",
       "4        moderate side effects             1   Other            1  "
      ]
     },
     "execution_count": 66,
     "metadata": {},
     "output_type": "execute_result"
    }
   ],
   "source": [
    "data.head()"
   ]
  },
  {
   "cell_type": "markdown",
   "id": "6728a25b",
   "metadata": {},
   "source": [
    "### DATA VISUALIZATION"
   ]
  },
  {
   "cell_type": "code",
   "execution_count": 67,
   "id": "70b47dfe",
   "metadata": {},
   "outputs": [
    {
     "data": {
      "image/png": "[encoded data removed]",
      "text/plain": [
       "<Figure size 640x480 with 1 Axes>"
      ]
     },
     "metadata": {},
     "output_type": "display_data"
    }
   ],
   "source": [
    "sns.countplot(data['Effectiveness'],data=data)\n",
    "plt.xticks(rotation=45)\n",
    "plt.show()"
   ]
  },
  {
   "cell_type": "code",
   "execution_count": 70,
   "id": "cfaf22c3",
   "metadata": {},
   "outputs": [
    {
     "data": {
      "image/png": "[encoded data removed]",
      "text/plain": [
       "<Figure size 1600x800 with 1 Axes>"
      ]
     },
     "metadata": {},
     "output_type": "display_data"
    }
   ],
   "source": [
    "plt.figure(figsize=(16,8))\n",
    "plt.title('PERCENTAGE OF EFFECTIVENESS OF DRUG',fontsize=20)\n",
    "tr = pd.DataFrame(data['Effectiveness'].value_counts())\n",
    "tr_names = tr.index\n",
    "count = tr['Effectiveness']\n",
    "plt.style.use('ggplot')\n",
    "plt.rc('font', size=10)\n",
    "plt.pie(count, autopct='%1.1f%%', labels = tr_names, pctdistance=0.9, labeldistance=1.1,shadow=True, startangle=90)\n",
    "plt.show()"
   ]
  },
  {
   "cell_type": "code",
   "execution_count": 72,
   "id": "234a776f",
   "metadata": {},
   "outputs": [
    {
     "data": {
      "image/png": "[encoded data removed]",
      "text/plain": [
       "<Figure size 1600x800 with 1 Axes>"
      ]
     },
     "metadata": {},
     "output_type": "display_data"
    }
   ],
   "source": [
    "plt.figure(figsize=(16,8))\n",
    "plt.title('PERCENTAGE OF CONDITIONS OF PATIENTS USING DRUG',fontsize=20)\n",
    "tr = pd.DataFrame(data['Condition'].value_counts())\n",
    "tr_names = tr.index\n",
    "count = tr['Condition']\n",
    "plt.style.use('ggplot')\n",
    "plt.rc('font', size=13)\n",
    "plt.pie(count, autopct='%1.1f%%', labels = tr_names, pctdistance=0.9, labeldistance=1.1)\n",
    "plt.show()"
   ]
  },
  {
   "cell_type": "code",
   "execution_count": 77,
   "id": "c83808c7",
   "metadata": {},
   "outputs": [
    {
     "data": {
      "image/png": "[encoded data removed]",
      "text/plain": [
       "<Figure size 640x480 with 1 Axes>"
      ]
     },
     "metadata": {},
     "output_type": "display_data"
    }
   ],
   "source": [
    "sns.set(style=\"white\")\n",
    "ax = sns.countplot(x='Condition',  data=data)\n",
    "plt.xticks(rotation=90)\n",
    "plt.show()"
   ]
  },
  {
   "cell_type": "code",
   "execution_count": 78,
   "id": "4266b24d",
   "metadata": {},
   "outputs": [],
   "source": [
    "datac1=data.loc[(data['Condition']==\"Major Depressive Disorder\")]"
   ]
  },
  {
   "cell_type": "code",
   "execution_count": 80,
   "id": "923b1358",
   "metadata": {},
   "outputs": [
    {
     "data": {
      "image/png": "[encoded data removed]",
      "text/plain": [
       "<Figure size 1400x800 with 1 Axes>"
      ]
     },
     "metadata": {},
     "output_type": "display_data"
    }
   ],
   "source": [
    "tr = pd.DataFrame(datac1['Effectiveness'].value_counts())[:5]\n",
    "tr_names = tr.index\n",
    "count = tr['Effectiveness']\n",
    "plt.style.use('ggplot')\n",
    "plt.figure(figsize=(14,8))\n",
    "plt.title('Percentage of side effects on patients with the condition Major depressive disorder',fontsize=18)\n",
    "plt.rc('font', size=10)\n",
    "plt.pie(count, autopct='%1.0f%%', labels = tr_names, pctdistance=1.1, labeldistance=1.2)\n",
    "plt.show()"
   ]
  },
  {
   "cell_type": "code",
   "execution_count": 81,
   "id": "548d586c",
   "metadata": {},
   "outputs": [
    {
     "data": {
      "text/plain": [
       "<Figure size 1600x800 with 0 Axes>"
      ]
     },
     "metadata": {},
     "output_type": "display_data"
    },
    {
     "data": {
      "image/png": "[encoded data removed]",
      "text/plain": [
       "<Figure size 1500x500 with 3 Axes>"
      ]
     },
     "metadata": {},
     "output_type": "display_data"
    }
   ],
   "source": [
    "plt.figure(figsize = (16,8))\n",
    "sns.catplot(x=\"Satisfaction\", col=\"Sex\",kind=\"count\",data=data)\n",
    "plt.show()"
   ]
  },
  {
   "cell_type": "markdown",
   "id": "a71279e4",
   "metadata": {},
   "source": [
    "Satisfaction with respect to Sex."
   ]
  },
  {
   "cell_type": "code",
   "execution_count": 82,
   "id": "83acee69",
   "metadata": {},
   "outputs": [
    {
     "data": {
      "text/plain": [
       "<seaborn.axisgrid.FacetGrid at 0x22cea45b580>"
      ]
     },
     "execution_count": 82,
     "metadata": {},
     "output_type": "execute_result"
    },
    {
     "data": {
      "image/png": "[encoded data removed]",
      "text/plain": [
       "<Figure size 713.625x600 with 1 Axes>"
      ]
     },
     "metadata": {},
     "output_type": "display_data"
    }
   ],
   "source": [
    "sns.FacetGrid(data, hue=\"Race\", size=6) \\\n",
    "   .map(sns.kdeplot, \"Satisfaction\") \\\n",
    "   .add_legend()"
   ]
  },
  {
   "cell_type": "markdown",
   "id": "80c8f6ad",
   "metadata": {},
   "source": [
    "Satisfaction with respect to Race."
   ]
  },
  {
   "cell_type": "code",
   "execution_count": 84,
   "id": "ee65be5b",
   "metadata": {},
   "outputs": [
    {
     "data": {
      "image/png": "[encoded data removed]",
      "text/plain": [
       "<Figure size 1600x600 with 1 Axes>"
      ]
     },
     "metadata": {},
     "output_type": "display_data"
    }
   ],
   "source": [
    "plt.figure(figsize=(16, 6))\n",
    "AS = sns.countplot(x=\"Age\",hue = \"Sex\" ,edgecolor=sns.color_palette(\"pastel\", 5),data=data,\n",
    "                   linewidth=5)\n",
    "plt.show()"
   ]
  },
  {
   "cell_type": "code",
   "execution_count": 88,
   "id": "0819443b",
   "metadata": {},
   "outputs": [
    {
     "data": {
      "image/png": "[encoded data removed]",
      "text/plain": [
       "<Figure size 1000x600 with 1 Axes>"
      ]
     },
     "metadata": {},
     "output_type": "display_data"
    }
   ],
   "source": [
    "plt.figure(figsize=(10, 6))\n",
    "sns.countplot(x='Age',hue='Effectiveness',data=data)\n",
    "plt.show()"
   ]
  },
  {
   "cell_type": "markdown",
   "id": "bb5a2982",
   "metadata": {},
   "source": [
    "Side effects according to Age."
   ]
  },
  {
   "cell_type": "code",
   "execution_count": 104,
   "id": "0e3f0ca5",
   "metadata": {},
   "outputs": [
    {
     "data": {
      "text/plain": [
       "<Figure size 1000x600 with 0 Axes>"
      ]
     },
     "metadata": {},
     "output_type": "display_data"
    },
    {
     "data": {
      "image/png": "[encoded data removed]",
      "text/plain": [
       "<Figure size 1620x600 with 3 Axes>"
      ]
     },
     "metadata": {},
     "output_type": "display_data"
    }
   ],
   "source": [
    "plt.figure(figsize=(10,6))\n",
    "g = sns.catplot(x=\"Effectiveness\",col=\"Sex\",data=data, kind=\"count\",height=6,aspect =.9);\n",
    "g.set_xticklabels(rotation=90)\n",
    "plt.show()"
   ]
  },
  {
   "cell_type": "markdown",
   "id": "ed99ecb2",
   "metadata": {},
   "source": [
    "### Label Encoding"
   ]
  },
  {
   "cell_type": "code",
   "execution_count": 105,
   "id": "1d20a18d",
   "metadata": {},
   "outputs": [],
   "source": [
    "from sklearn.preprocessing import LabelEncoder\n",
    "label=LabelEncoder()\n",
    "for col in [\"Age\",\"Condition\",\"Sex\",\"Race\"]:\n",
    "    data[col]=label.fit_transform(data[col])\n",
    "datastand=data"
   ]
  },
  {
   "cell_type": "markdown",
   "id": "bc080af0",
   "metadata": {},
   "source": [
    "### Data Splitting"
   ]
  },
  {
   "cell_type": "code",
   "execution_count": 106,
   "id": "546d2bec",
   "metadata": {},
   "outputs": [],
   "source": [
    "y=data['Effectiveness']\n",
    "x=data.drop(['Effectiveness'],axis=1)\n",
    "x1=x\n",
    "x2=x"
   ]
  },
  {
   "cell_type": "code",
   "execution_count": 107,
   "id": "36be521c",
   "metadata": {},
   "outputs": [],
   "source": [
    "from sklearn.model_selection import train_test_split\n",
    "x_train,x_test,y_train,y_test=train_test_split(x,y,random_state=42,test_size=0.1)"
   ]
  },
  {
   "cell_type": "code",
   "execution_count": 108,
   "id": "aa340ec0",
   "metadata": {},
   "outputs": [],
   "source": [
    "from sklearn.metrics import accuracy_score,precision_score,f1_score,confusion_matrix"
   ]
  },
  {
   "cell_type": "markdown",
   "id": "1bb61ec6",
   "metadata": {},
   "source": [
    "### Logistic Regression"
   ]
  },
  {
   "cell_type": "code",
   "execution_count": 109,
   "id": "46fcb13e",
   "metadata": {},
   "outputs": [],
   "source": [
    "from sklearn.linear_model import LogisticRegression\n",
    "logic=LogisticRegression()\n",
    "logic.fit(x_train,y_train)\n",
    "y_logic=logic.predict(x_test)"
   ]
  },
  {
   "cell_type": "code",
   "execution_count": 110,
   "id": "9225f27f",
   "metadata": {},
   "outputs": [
    {
     "name": "stdout",
     "output_type": "stream",
     "text": [
      "Accuracy is:  56.49867374005305\n",
      "Confusion Matrix:  [[50  1  2  1  0]\n",
      " [ 7 37  8 43  0]\n",
      " [14 34 27  6  0]\n",
      " [ 3 11  2 99  0]\n",
      " [16  4 12  0  0]]\n"
     ]
    }
   ],
   "source": [
    "print(\"Accuracy is: \",accuracy_score(y_test,y_logic)*100)\n",
    "print(\"Confusion Matrix: \",confusion_matrix(y_test,y_logic))"
   ]
  },
  {
   "cell_type": "markdown",
   "id": "93ace773",
   "metadata": {},
   "source": [
    "### KNN"
   ]
  },
  {
   "cell_type": "code",
   "execution_count": 111,
   "id": "8a9588f1",
   "metadata": {},
   "outputs": [],
   "source": [
    "from sklearn.neighbors import KNeighborsClassifier\n",
    "classifier=KNeighborsClassifier(n_neighbors=5, metric='minkowski')\n",
    "classifier.fit(x_train,y_train)\n",
    "y_pred=classifier.predict(x_test)\n",
    "acc=accuracy_score(y_test,y_pred)"
   ]
  },
  {
   "cell_type": "code",
   "execution_count": 112,
   "id": "75a408b5",
   "metadata": {},
   "outputs": [
    {
     "name": "stdout",
     "output_type": "stream",
     "text": [
      "Accuracy is:  54.11140583554377\n",
      "confusion matrix is [[40  3  9  2  0]\n",
      " [ 8 48 14 24  1]\n",
      " [16 31 27  4  3]\n",
      " [ 2 17  7 89  0]\n",
      " [14  5 13  0  0]]\n"
     ]
    }
   ],
   "source": [
    "print(\"Accuracy is: \",accuracy_score(y_test,y_pred)*100)\n",
    "print(\"confusion matrix is\",confusion_matrix(y_test,y_pred))"
   ]
  },
  {
   "cell_type": "markdown",
   "id": "48eedd6e",
   "metadata": {},
   "source": [
    "### Linear SVM"
   ]
  },
  {
   "cell_type": "code",
   "execution_count": 113,
   "id": "1f50ab75",
   "metadata": {},
   "outputs": [],
   "source": [
    "from sklearn.svm import LinearSVC\n",
    "support=LinearSVC()\n",
    "support.fit(x_train,y_train)\n",
    "y_support=support.predict(x_test)"
   ]
  },
  {
   "cell_type": "code",
   "execution_count": 114,
   "id": "08811300",
   "metadata": {},
   "outputs": [
    {
     "name": "stdout",
     "output_type": "stream",
     "text": [
      "Accuracy is:  52.51989389920424\n",
      "confusion matrix is [[ 50   1   1   2   0]\n",
      " [  7  37   3  48   0]\n",
      " [ 14  44   6  17   0]\n",
      " [  3   7   0 105   0]\n",
      " [ 16   7   7   2   0]]\n"
     ]
    }
   ],
   "source": [
    "print(\"Accuracy is: \",accuracy_score(y_test,y_support)*100)\n",
    "print(\"confusion matrix is\",confusion_matrix(y_test,y_support))"
   ]
  },
  {
   "cell_type": "markdown",
   "id": "1fbbfc66",
   "metadata": {},
   "source": [
    "###  Decision Tree"
   ]
  },
  {
   "cell_type": "code",
   "execution_count": 119,
   "id": "6c003020",
   "metadata": {},
   "outputs": [],
   "source": [
    "from sklearn.tree import DecisionTreeClassifier\n",
    "decision = DecisionTreeClassifier()\n",
    "decision.fit(x_train, y_train)\n",
    "y_decisionfine = decision.predict(x_test)"
   ]
  },
  {
   "cell_type": "code",
   "execution_count": 120,
   "id": "61755778",
   "metadata": {},
   "outputs": [
    {
     "name": "stdout",
     "output_type": "stream",
     "text": [
      "Accuracy is:  49.07161803713528\n",
      "confusion matrix is [[33  3 11  3  4]\n",
      " [ 6 40 16 29  4]\n",
      " [14 18 28 12  9]\n",
      " [ 3 27  5 78  2]\n",
      " [12  1 11  2  6]]\n"
     ]
    }
   ],
   "source": [
    "print(\"Accuracy is: \",accuracy_score(y_test,y_decisionfine)*100)\n",
    "print(\"confusion matrix is\",confusion_matrix(y_test,y_decisionfine))"
   ]
  },
  {
   "cell_type": "markdown",
   "id": "0ade3e3e",
   "metadata": {},
   "source": [
    "### Random Forest"
   ]
  },
  {
   "cell_type": "code",
   "execution_count": 121,
   "id": "c263cebb",
   "metadata": {},
   "outputs": [
    {
     "data": {
      "text/plain": [
       "RandomForestClassifier()"
      ]
     },
     "execution_count": 121,
     "metadata": {},
     "output_type": "execute_result"
    }
   ],
   "source": [
    "from sklearn.ensemble import RandomForestClassifier\n",
    "rand=RandomForestClassifier()\n",
    "rand.fit(x_train,y_train)"
   ]
  },
  {
   "cell_type": "code",
   "execution_count": 122,
   "id": "fae4116f",
   "metadata": {},
   "outputs": [
    {
     "name": "stdout",
     "output_type": "stream",
     "text": [
      "accuracy is 0.5782493368700266\n",
      "confusion matrix is [[42  3  6  2  1]\n",
      " [ 7 48 17 22  1]\n",
      " [14 20 34  7  6]\n",
      " [ 1 15  8 90  1]\n",
      " [13  3 12  0  4]]\n"
     ]
    }
   ],
   "source": [
    "y_rand=rand.predict(x_test)\n",
    "print(\"accuracy is\",accuracy_score(y_test,y_rand))\n",
    "print(\"confusion matrix is\",confusion_matrix(y_test,y_rand))"
   ]
  },
  {
   "cell_type": "markdown",
   "id": "a277e350",
   "metadata": {},
   "source": [
    "### Gradient Boosting"
   ]
  },
  {
   "cell_type": "code",
   "execution_count": 139,
   "id": "a279e459",
   "metadata": {},
   "outputs": [
    {
     "name": "stdout",
     "output_type": "stream",
     "text": [
      "Accuracy is:  63.395225464190986\n",
      "confusion matrix is [[47  1  4  1  1]\n",
      " [ 7 48 18 21  1]\n",
      " [12 19 46  1  3]\n",
      " [ 3 10  8 94  0]\n",
      " [15  1 11  1  4]]\n"
     ]
    }
   ],
   "source": [
    "from sklearn.ensemble import GradientBoostingClassifier\n",
    "grad=GradientBoostingClassifier()\n",
    "grad.fit(x_train,y_train)\n",
    "GradientBoostingClassifier()\n",
    "y_grad=grad.predict(x_test)\n",
    "print(\"Accuracy is: \",accuracy_score(y_test,y_grad)*100)\n",
    "print(\"confusion matrix is\",confusion_matrix(y_test,y_grad))"
   ]
  },
  {
   "cell_type": "markdown",
   "id": "afa0fdbe",
   "metadata": {},
   "source": [
    "### STANDARDISATION"
   ]
  },
  {
   "cell_type": "code",
   "execution_count": 123,
   "id": "487ebac5",
   "metadata": {},
   "outputs": [],
   "source": [
    "from sklearn.preprocessing import StandardScaler\n",
    "stand=StandardScaler()\n",
    "x=stand.fit_transform(x)"
   ]
  },
  {
   "cell_type": "code",
   "execution_count": 124,
   "id": "4d717f0f",
   "metadata": {},
   "outputs": [],
   "source": [
    "x_train,x_test,y_train,y_test=train_test_split(x,y,test_size=0.1,random_state=42)"
   ]
  },
  {
   "cell_type": "markdown",
   "id": "a2271eed",
   "metadata": {},
   "source": [
    "### Logistic Regression"
   ]
  },
  {
   "cell_type": "code",
   "execution_count": 125,
   "id": "05142fb6",
   "metadata": {},
   "outputs": [
    {
     "name": "stdout",
     "output_type": "stream",
     "text": [
      "Accuracy is:  56.233421750663126\n"
     ]
    }
   ],
   "source": [
    "logic1=LogisticRegression()\n",
    "logic1.fit(x_train,y_train)\n",
    "y_logic1=logic1.predict(x_test)\n",
    "print(\"Accuracy is: \",accuracy_score(y_test,y_logic1)*100)"
   ]
  },
  {
   "cell_type": "markdown",
   "id": "d0aa4d17",
   "metadata": {},
   "source": [
    "### KNN"
   ]
  },
  {
   "cell_type": "code",
   "execution_count": 126,
   "id": "7bbdc6be",
   "metadata": {},
   "outputs": [
    {
     "name": "stdout",
     "output_type": "stream",
     "text": [
      "Accuracy is:  0.5623342175066313\n"
     ]
    }
   ],
   "source": [
    "classifier1=KNeighborsClassifier(n_neighbors=5, metric='minkowski')\n",
    "classifier1.fit(x_train,y_train)\n",
    "y_pred1=classifier1.predict(x_test)\n",
    "acc=accuracy_score(y_test,y_pred1)\n",
    "print(\"Accuracy is: \",acc)"
   ]
  },
  {
   "cell_type": "markdown",
   "id": "3a6466a8",
   "metadata": {},
   "source": [
    "### Random Forest"
   ]
  },
  {
   "cell_type": "code",
   "execution_count": 128,
   "id": "e3864258",
   "metadata": {},
   "outputs": [
    {
     "name": "stdout",
     "output_type": "stream",
     "text": [
      "Accuracy is:  0.5596816976127321\n"
     ]
    }
   ],
   "source": [
    "rand1=RandomForestClassifier()\n",
    "rand1.fit(x_train,y_train)\n",
    "y_rand1=rand1.predict(x_test)\n",
    "acc=accuracy_score(y_test,y_rand1)\n",
    "print(\"Accuracy is: \",acc)"
   ]
  },
  {
   "cell_type": "markdown",
   "id": "96c6e4d6",
   "metadata": {},
   "source": [
    "### Decision Tree"
   ]
  },
  {
   "cell_type": "code",
   "execution_count": 129,
   "id": "77d036cd",
   "metadata": {},
   "outputs": [
    {
     "name": "stdout",
     "output_type": "stream",
     "text": [
      "Accuracy is:  0.4854111405835544\n"
     ]
    }
   ],
   "source": [
    "decision1=DecisionTreeClassifier()\n",
    "decision1.fit(x_train,y_train)\n",
    "y_decision1=decision1.predict(x_test)\n",
    "acc=accuracy_score(y_test,y_decision1)\n",
    "print(\"Accuracy is: \",acc)"
   ]
  },
  {
   "cell_type": "markdown",
   "id": "80c1026b",
   "metadata": {},
   "source": [
    "### Gradient Boosting"
   ]
  },
  {
   "cell_type": "code",
   "execution_count": 142,
   "id": "d191e966",
   "metadata": {},
   "outputs": [
    {
     "name": "stdout",
     "output_type": "stream",
     "text": [
      "Accuracy is:  0.6339522546419099\n"
     ]
    }
   ],
   "source": [
    "grad1=GradientBoostingClassifier()\n",
    "grad1.fit(x_train,y_train)\n",
    "y_grad1=grad1.predict(x_test)\n",
    "acc=accuracy_score(y_test,y_grad1)\n",
    "print(\"Accuracy is: \",acc)"
   ]
  },
  {
   "cell_type": "markdown",
   "id": "b620ed62",
   "metadata": {},
   "source": [
    "### NORMALISATION"
   ]
  },
  {
   "cell_type": "code",
   "execution_count": 132,
   "id": "daeffdb4",
   "metadata": {},
   "outputs": [],
   "source": [
    "from sklearn.preprocessing import Normalizer\n",
    "norm=Normalizer()\n",
    "x1=norm.fit_transform(x1)\n",
    "x1_train,x1_test,y_train,y_test=train_test_split(x1,y,test_size=0.1,random_state=42)"
   ]
  },
  {
   "cell_type": "markdown",
   "id": "2449aa75",
   "metadata": {},
   "source": [
    "### Logistic Regression"
   ]
  },
  {
   "cell_type": "code",
   "execution_count": 133,
   "id": "23f38679",
   "metadata": {},
   "outputs": [
    {
     "name": "stdout",
     "output_type": "stream",
     "text": [
      "0.5172413793103449\n"
     ]
    }
   ],
   "source": [
    "logic2=LogisticRegression()\n",
    "logic2.fit(x1_train,y_train)\n",
    "y_logic2=logic2.predict(x1_test)\n",
    "print(accuracy_score(y_test,y_logic2))"
   ]
  },
  {
   "cell_type": "markdown",
   "id": "f0ce6a79",
   "metadata": {},
   "source": [
    "### KNN"
   ]
  },
  {
   "cell_type": "code",
   "execution_count": 134,
   "id": "3eacd85f",
   "metadata": {},
   "outputs": [
    {
     "name": "stdout",
     "output_type": "stream",
     "text": [
      "Accuracy is:  0.4880636604774536\n"
     ]
    }
   ],
   "source": [
    "classifier2=KNeighborsClassifier(n_neighbors=5, metric='minkowski')\n",
    "classifier2.fit(x1_train,y_train)\n",
    "y_pred2=classifier2.predict(x1_test)\n",
    "acc=accuracy_score(y_test,y_pred2)\n",
    "print(\"Accuracy is: \",acc)"
   ]
  },
  {
   "cell_type": "markdown",
   "id": "9bc8ab68",
   "metadata": {},
   "source": [
    "### Random Forest"
   ]
  },
  {
   "cell_type": "code",
   "execution_count": 135,
   "id": "010cb3a1",
   "metadata": {},
   "outputs": [
    {
     "name": "stdout",
     "output_type": "stream",
     "text": [
      "Accuracy is:  0.5411140583554377\n"
     ]
    }
   ],
   "source": [
    "rand2=RandomForestClassifier()\n",
    "rand2.fit(x1_train,y_train)\n",
    "y_rand2=rand2.predict(x1_test)\n",
    "acc=accuracy_score(y_test,y_rand2)\n",
    "print(\"Accuracy is: \",acc)"
   ]
  },
  {
   "cell_type": "markdown",
   "id": "a85af67f",
   "metadata": {},
   "source": [
    "### Decision Tree"
   ]
  },
  {
   "cell_type": "code",
   "execution_count": 136,
   "id": "fb3ff3c2",
   "metadata": {},
   "outputs": [
    {
     "name": "stdout",
     "output_type": "stream",
     "text": [
      "Accuracy is:  0.4350132625994695\n"
     ]
    }
   ],
   "source": [
    "decision2=DecisionTreeClassifier()\n",
    "decision2.fit(x1_train,y_train)\n",
    "y_decision2=decision2.predict(x1_test)\n",
    "acc=accuracy_score(y_test,y_decision2)\n",
    "print(\"Accuracy is: \",acc)"
   ]
  },
  {
   "cell_type": "markdown",
   "id": "7778df9f",
   "metadata": {},
   "source": [
    "### Gradient Boosting"
   ]
  },
  {
   "cell_type": "code",
   "execution_count": null,
   "id": "3c6b1512",
   "metadata": {},
   "outputs": [],
   "source": [
    "grad2=GradientBoostingClassifier()\n",
    "grad2.fit(x1_train,y_train)\n",
    "y_grad2=grad2.predict(x1_test)\n",
    "acc=accuracy_score(y_test,y_grad2)\n",
    "print(\"Accuracy is: \",acc)"
   ]
  },
  {
   "cell_type": "markdown",
   "id": "64d8ee88",
   "metadata": {},
   "source": [
    "### Evaluating Model"
   ]
  },
  {
   "cell_type": "code",
   "execution_count": 143,
   "id": "c6addee5",
   "metadata": {},
   "outputs": [
    {
     "data": {
      "text/plain": [
       "no side effects                115\n",
       "mild side effects               95\n",
       "moderate side effects           81\n",
       "extreme severe side effects     54\n",
       "severe side effects             32\n",
       "Name: Effectiveness, dtype: int64"
      ]
     },
     "execution_count": 143,
     "metadata": {},
     "output_type": "execute_result"
    }
   ],
   "source": [
    "y_test.value_counts()"
   ]
  },
  {
   "cell_type": "code",
   "execution_count": 144,
   "id": "344d5f5b",
   "metadata": {},
   "outputs": [
    {
     "data": {
      "text/html": [
       "<div>\n",
       "<style scoped>\n",
       "    .dataframe tbody tr th:only-of-type {\n",
       "        vertical-align: middle;\n",
       "    }\n",
       "\n",
       "    .dataframe tbody tr th {\n",
       "        vertical-align: top;\n",
       "    }\n",
       "\n",
       "    .dataframe thead th {\n",
       "        text-align: right;\n",
       "    }\n",
       "</style>\n",
       "<table border=\"1\" class=\"dataframe\">\n",
       "  <thead>\n",
       "    <tr style=\"text-align: right;\">\n",
       "      <th></th>\n",
       "      <th>y_predicted</th>\n",
       "      <th>original</th>\n",
       "    </tr>\n",
       "  </thead>\n",
       "  <tbody>\n",
       "    <tr>\n",
       "      <th>3539</th>\n",
       "      <td>no side effects</td>\n",
       "      <td>no side effects</td>\n",
       "    </tr>\n",
       "    <tr>\n",
       "      <th>2992</th>\n",
       "      <td>moderate side effects</td>\n",
       "      <td>mild side effects</td>\n",
       "    </tr>\n",
       "    <tr>\n",
       "      <th>220</th>\n",
       "      <td>severe side effects</td>\n",
       "      <td>severe side effects</td>\n",
       "    </tr>\n",
       "    <tr>\n",
       "      <th>2971</th>\n",
       "      <td>mild side effects</td>\n",
       "      <td>mild side effects</td>\n",
       "    </tr>\n",
       "    <tr>\n",
       "      <th>1953</th>\n",
       "      <td>no side effects</td>\n",
       "      <td>no side effects</td>\n",
       "    </tr>\n",
       "  </tbody>\n",
       "</table>\n",
       "</div>"
      ],
      "text/plain": [
       "                y_predicted             original\n",
       "3539        no side effects      no side effects\n",
       "2992  moderate side effects    mild side effects\n",
       "220     severe side effects  severe side effects\n",
       "2971      mild side effects    mild side effects\n",
       "1953        no side effects      no side effects"
      ]
     },
     "execution_count": 144,
     "metadata": {},
     "output_type": "execute_result"
    }
   ],
   "source": [
    "df=pd.DataFrame({\"y_predicted\": y_grad,\"original\":y_test})\n",
    "df.head()"
   ]
  },
  {
   "cell_type": "code",
   "execution_count": 145,
   "id": "e903b024",
   "metadata": {},
   "outputs": [
    {
     "data": {
      "text/html": [
       "<div>\n",
       "<style scoped>\n",
       "    .dataframe tbody tr th:only-of-type {\n",
       "        vertical-align: middle;\n",
       "    }\n",
       "\n",
       "    .dataframe tbody tr th {\n",
       "        vertical-align: top;\n",
       "    }\n",
       "\n",
       "    .dataframe thead th {\n",
       "        text-align: right;\n",
       "    }\n",
       "</style>\n",
       "<table border=\"1\" class=\"dataframe\">\n",
       "  <thead>\n",
       "    <tr style=\"text-align: right;\">\n",
       "      <th>original</th>\n",
       "      <th>extreme severe side effects</th>\n",
       "      <th>mild side effects</th>\n",
       "      <th>moderate side effects</th>\n",
       "      <th>no side effects</th>\n",
       "      <th>severe side effects</th>\n",
       "    </tr>\n",
       "    <tr>\n",
       "      <th>y_predicted</th>\n",
       "      <th></th>\n",
       "      <th></th>\n",
       "      <th></th>\n",
       "      <th></th>\n",
       "      <th></th>\n",
       "    </tr>\n",
       "  </thead>\n",
       "  <tbody>\n",
       "    <tr>\n",
       "      <th>extreme severe side effects</th>\n",
       "      <td>47</td>\n",
       "      <td>7</td>\n",
       "      <td>12</td>\n",
       "      <td>3</td>\n",
       "      <td>15</td>\n",
       "    </tr>\n",
       "    <tr>\n",
       "      <th>mild side effects</th>\n",
       "      <td>1</td>\n",
       "      <td>48</td>\n",
       "      <td>19</td>\n",
       "      <td>10</td>\n",
       "      <td>1</td>\n",
       "    </tr>\n",
       "    <tr>\n",
       "      <th>moderate side effects</th>\n",
       "      <td>4</td>\n",
       "      <td>18</td>\n",
       "      <td>46</td>\n",
       "      <td>8</td>\n",
       "      <td>11</td>\n",
       "    </tr>\n",
       "    <tr>\n",
       "      <th>no side effects</th>\n",
       "      <td>1</td>\n",
       "      <td>21</td>\n",
       "      <td>1</td>\n",
       "      <td>94</td>\n",
       "      <td>1</td>\n",
       "    </tr>\n",
       "    <tr>\n",
       "      <th>severe side effects</th>\n",
       "      <td>1</td>\n",
       "      <td>1</td>\n",
       "      <td>3</td>\n",
       "      <td>0</td>\n",
       "      <td>4</td>\n",
       "    </tr>\n",
       "  </tbody>\n",
       "</table>\n",
       "</div>"
      ],
      "text/plain": [
       "original                     extreme severe side effects  mild side effects  \\\n",
       "y_predicted                                                                   \n",
       "extreme severe side effects                           47                  7   \n",
       "mild side effects                                      1                 48   \n",
       "moderate side effects                                  4                 18   \n",
       "no side effects                                        1                 21   \n",
       "severe side effects                                    1                  1   \n",
       "\n",
       "original                     moderate side effects  no side effects  \\\n",
       "y_predicted                                                           \n",
       "extreme severe side effects                     12                3   \n",
       "mild side effects                               19               10   \n",
       "moderate side effects                           46                8   \n",
       "no side effects                                  1               94   \n",
       "severe side effects                              3                0   \n",
       "\n",
       "original                     severe side effects  \n",
       "y_predicted                                       \n",
       "extreme severe side effects                   15  \n",
       "mild side effects                              1  \n",
       "moderate side effects                         11  \n",
       "no side effects                                1  \n",
       "severe side effects                            4  "
      ]
     },
     "execution_count": 145,
     "metadata": {},
     "output_type": "execute_result"
    }
   ],
   "source": [
    "pd.crosstab(df[\"y_predicted\"],df[\"original\"])"
   ]
  },
  {
   "cell_type": "markdown",
   "id": "f4d5f9b2",
   "metadata": {},
   "source": [
    "### Insight :\n",
    "The Side effect of the drug is best modelled by Gradient Boosting without doing any scaling and standardisation. People in the age group 45-54 mostly used this drug and within that the male ratio was higher. People with the condition 'Major Depressive Disorder' consumed this drug more. Over all by comparing with race also,the male ratio is higher."
   ]
  },
  {
   "cell_type": "code",
   "execution_count": null,
   "id": "e13667e0",
   "metadata": {},
   "outputs": [],
   "source": []
  }
 ],
 "metadata": {
  "kernelspec": {
   "display_name": "Python 3 (ipykernel)",
   "language": "python",
   "name": "python3"
  },
  "language_info": {
   "codemirror_mode": {
    "name": "ipython",
    "version": 3
   },
   "file_extension": ".py",
   "mimetype": "text/x-python",
   "name": "python",
   "nbconvert_exporter": "python",
   "pygments_lexer": "ipython3",
   "version": "3.9.13"
  }
 },
 "nbformat": 4,
 "nbformat_minor": 5
}
